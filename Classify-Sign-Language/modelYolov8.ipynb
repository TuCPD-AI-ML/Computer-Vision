{
  "nbformat": 4,
  "nbformat_minor": 0,
  "metadata": {
    "colab": {
      "provenance": [],
      "gpuType": "T4"
    },
    "kernelspec": {
      "name": "python3",
      "display_name": "Python 3"
    },
    "language_info": {
      "name": "python"
    },
    "accelerator": "GPU"
  },
  "cells": [
    {
      "cell_type": "code",
      "source": [
        "%cd /content/drive/MyDrive/yolov8/data\n",
        "!unzip /content/drive/MyDrive/yolov8/hand.zip"
      ],
      "metadata": {
        "colab": {
          "base_uri": "https://localhost:8080/"
        },
        "id": "-HYLvMMkOSac",
        "outputId": "0a552902-9505-489e-ed5f-9e4eb2513477"
      },
      "execution_count": null,
      "outputs": [
        {
          "output_type": "stream",
          "name": "stdout",
          "text": [
            "/content/drive/MyDrive/yolov8/data\n",
            "Archive:  /content/drive/MyDrive/yolov8/hand.zip\n",
            "replace hand/hand_1702114903.3063803.png? [y]es, [n]o, [A]ll, [N]one, [r]ename: A\n",
            "  inflating: hand/hand_1702114903.3063803.png  \n",
            "  inflating: hand/hand_1702114903.6168156.png  \n",
            "  inflating: hand/hand_1702114903.9239993.png  \n",
            "  inflating: hand/hand_1702114904.2564602.png  \n",
            "  inflating: hand/hand_1702114904.572924.png  \n",
            "  inflating: hand/hand_1702114904.879698.png  \n",
            "  inflating: hand/hand_1702114905.1902409.png  \n",
            "  inflating: hand/hand_1702114905.493742.png  \n",
            "  inflating: hand/hand_1702114905.801075.png  \n",
            "  inflating: hand/hand_1702114906.1137028.png  \n",
            "  inflating: hand/hand_1702114906.4206614.png  \n",
            "  inflating: hand/hand_1702114906.7222624.png  \n",
            "  inflating: hand/hand_1702114907.0386052.png  \n",
            "  inflating: hand/hand_1702114907.3626761.png  \n",
            "  inflating: hand/hand_1702114907.6792417.png  \n",
            "  inflating: hand/hand_1702114907.981317.png  \n",
            "  inflating: hand/hand_1702114908.2888937.png  \n",
            "  inflating: hand/hand_1702114908.6124394.png  \n",
            "  inflating: hand/hand_1702114908.9258318.png  \n",
            "  inflating: hand/hand_1702114909.2405634.png  \n",
            "  inflating: hand/hand_1702114909.5471706.png  \n",
            "  inflating: hand/hand_1702114909.856576.png  \n",
            "  inflating: hand/hand_1702114910.1704805.png  \n",
            "  inflating: hand/hand_1702114910.482399.png  \n",
            "  inflating: hand/hand_1702114910.871995.png  \n",
            "  inflating: hand/hand_1702114911.1864357.png  \n",
            "  inflating: hand/hand_1702114911.4927995.png  \n",
            "  inflating: hand/hand_1702114911.8134675.png  \n",
            "  inflating: hand/hand_1702114912.1222217.png  \n",
            "  inflating: hand/hand_1702114912.4278078.png  \n",
            "  inflating: hand/hand_1702114912.7608807.png  \n",
            "  inflating: hand/hand_1702114918.859193.png  \n",
            "  inflating: hand/hand_1702114919.1631954.png  \n",
            "  inflating: hand/hand_1702114919.4672434.png  \n",
            "  inflating: hand/hand_1702114919.7812705.png  \n",
            "  inflating: hand/hand_1702114920.0920558.png  \n",
            "  inflating: hand/hand_1702114921.0093153.png  \n",
            "  inflating: hand/hand_1702114921.3158948.png  \n",
            "  inflating: hand/hand_1702114921.6232903.png  \n",
            "  inflating: hand/hand_1702114921.9287736.png  \n",
            "  inflating: hand/hand_1702114923.01544.png  \n",
            "  inflating: hand/hand_1702114923.3340025.png  \n",
            "  inflating: hand/hand_1702114923.6409483.png  \n",
            "  inflating: hand/hand_1702114924.5841162.png  \n",
            "  inflating: hand/hand_1702114924.8884783.png  \n",
            "  inflating: hand/hand_1702114925.2168195.png  \n",
            "  inflating: hand/hand_1702114925.530238.png  \n",
            "  inflating: hand/hand_1702114925.8378088.png  \n",
            "  inflating: hand/hand_1702114926.1592956.png  \n",
            "  inflating: hand/hand_1702114926.4724588.png  \n",
            "  inflating: hand/hand_1702115081.0396307.png  \n",
            "  inflating: hand/hand_1702115081.3499656.png  \n",
            "  inflating: hand/hand_1702115081.6646023.png  \n",
            "  inflating: hand/hand_1702115081.9859936.png  \n",
            "  inflating: hand/hand_1702115082.3112805.png  \n",
            "  inflating: hand/hand_1702115082.6272328.png  \n",
            "  inflating: hand/hand_1702115082.9457703.png  \n",
            "  inflating: hand/hand_1702115083.2658503.png  \n",
            "  inflating: hand/hand_1702115083.590577.png  \n",
            "  inflating: hand/hand_1702115083.9015834.png  \n",
            "  inflating: hand/hand_1702115084.2238379.png  \n",
            "  inflating: hand/hand_1702115084.552275.png  \n",
            "  inflating: hand/hand_1702115084.8860674.png  \n",
            "  inflating: hand/hand_1702115085.2007213.png  \n",
            "  inflating: hand/hand_1702115085.60996.png  \n",
            "  inflating: hand/hand_1702115085.9353843.png  \n",
            "  inflating: hand/hand_1702115086.2540176.png  \n",
            "  inflating: hand/hand_1702115086.5700357.png  \n",
            "  inflating: hand/hand_1702115086.8844006.png  \n",
            "  inflating: hand/hand_1702115087.1978106.png  \n",
            "  inflating: hand/hand_1702115089.5386949.png  \n",
            "  inflating: hand/hand_1702115089.8540878.png  \n",
            "  inflating: hand/hand_1702115090.1812167.png  \n",
            "  inflating: hand/hand_1702115090.4916072.png  \n",
            "  inflating: hand/hand_1702115090.8156774.png  \n",
            "  inflating: hand/hand_1702115091.1133983.png  \n",
            "  inflating: hand/hand_1702115091.4355874.png  \n",
            "  inflating: hand/hand_1702115093.435274.png  \n",
            "  inflating: hand/hand_1702115093.7581108.png  \n",
            "  inflating: hand/hand_1702115094.08269.png  \n",
            "  inflating: hand/hand_1702115094.3895192.png  \n",
            "  inflating: hand/hand_1702115094.705397.png  \n",
            "  inflating: hand/hand_1702115095.0122118.png  \n",
            "  inflating: hand/hand_1702115095.3216612.png  \n",
            "  inflating: hand/hand_1702115097.4283578.png  \n",
            "  inflating: hand/hand_1702115097.7470598.png  \n",
            "  inflating: hand/hand_1702115098.0633385.png  \n",
            "  inflating: hand/hand_1702115098.3845034.png  \n",
            "  inflating: hand/hand_1702115098.7058992.png  \n",
            "  inflating: hand/hand_1702115099.0130293.png  \n",
            "  inflating: hand/hand_1702115099.3444138.png  \n",
            "  inflating: hand/hand_1702115101.1734571.png  \n",
            "  inflating: hand/hand_1702115101.4832997.png  \n",
            "  inflating: hand/hand_1702115101.8045628.png  \n",
            "  inflating: hand/hand_1702115102.1094964.png  \n",
            "  inflating: hand/hand_1702115102.4321353.png  \n",
            "  inflating: hand/hand_1702115102.7426634.png  \n",
            "  inflating: hand/hand_1702115104.711735.png  \n",
            "  inflating: hand/hand_1702115105.0238123.png  \n",
            "  inflating: hand/hand_1702115105.3271651.png  \n",
            "  inflating: hand/hand_1702115261.574427.png  \n",
            "  inflating: hand/hand_1702115261.8852255.png  \n",
            "  inflating: hand/hand_1702115262.2081666.png  \n",
            "  inflating: hand/hand_1702115262.5228388.png  \n",
            "  inflating: hand/hand_1702115262.8404481.png  \n",
            "  inflating: hand/hand_1702115263.164731.png  \n",
            "  inflating: hand/hand_1702115263.4840338.png  \n",
            "  inflating: hand/hand_1702115263.8012486.png  \n",
            "  inflating: hand/hand_1702115264.1190321.png  \n",
            "  inflating: hand/hand_1702115264.436304.png  \n",
            "  inflating: hand/hand_1702115264.7400286.png  \n",
            "  inflating: hand/hand_1702115265.0609632.png  \n",
            "  inflating: hand/hand_1702115265.3775537.png  \n",
            "  inflating: hand/hand_1702115265.7071674.png  \n",
            "  inflating: hand/hand_1702115266.0244725.png  \n",
            "  inflating: hand/hand_1702115266.4185038.png  \n",
            "  inflating: hand/hand_1702115266.7552419.png  \n",
            "  inflating: hand/hand_1702115267.0781536.png  \n",
            "  inflating: hand/hand_1702115267.3992715.png  \n",
            "  inflating: hand/hand_1702115267.7139323.png  \n",
            "  inflating: hand/hand_1702115269.1301944.png  \n",
            "  inflating: hand/hand_1702115269.4622688.png  \n",
            "  inflating: hand/hand_1702115269.803884.png  \n",
            "  inflating: hand/hand_1702115270.152715.png  \n",
            "  inflating: hand/hand_1702115270.4877858.png  \n",
            "  inflating: hand/hand_1702115270.815668.png  \n",
            "  inflating: hand/hand_1702115271.1461866.png  \n",
            "  inflating: hand/hand_1702115271.4592962.png  \n",
            "  inflating: hand/hand_1702115274.0909662.png  \n",
            "  inflating: hand/hand_1702115274.4103744.png  \n",
            "  inflating: hand/hand_1702115274.7227623.png  \n",
            "  inflating: hand/hand_1702115275.0361953.png  \n",
            "  inflating: hand/hand_1702115275.3526871.png  \n",
            "  inflating: hand/hand_1702115277.262386.png  \n",
            "  inflating: hand/hand_1702115277.58046.png  \n",
            "  inflating: hand/hand_1702115277.9358237.png  \n",
            "  inflating: hand/hand_1702115278.2520704.png  \n",
            "  inflating: hand/hand_1702115278.5671844.png  \n",
            "  inflating: hand/hand_1702115278.8787994.png  \n",
            "  inflating: hand/hand_1702115279.1942766.png  \n",
            "  inflating: hand/hand_1702115281.172082.png  \n",
            "  inflating: hand/hand_1702115281.4803877.png  \n",
            "  inflating: hand/hand_1702115281.796704.png  \n",
            "  inflating: hand/hand_1702115282.1144876.png  \n",
            "  inflating: hand/hand_1702115282.4483068.png  \n",
            "  inflating: hand/hand_1702115282.768612.png  \n",
            "  inflating: hand/hand_1702115283.0990007.png  \n",
            "  inflating: hand/hand_1702115283.4039009.png  \n",
            "  inflating: hand/hand_1702115283.7192287.png  \n",
            "  inflating: hand/hand_1702115286.6128898.png  \n",
            "  inflating: hand/hand_1702115321.2280915.png  \n",
            "  inflating: hand/hand_1702115321.5324457.png  \n",
            "  inflating: hand/hand_1702115321.858684.png  \n",
            "  inflating: hand/hand_1702115322.1741061.png  \n",
            "  inflating: hand/hand_1702115322.5028677.png  \n",
            "  inflating: hand/hand_1702115322.8179193.png  \n",
            "  inflating: hand/hand_1702115323.1201272.png  \n",
            "  inflating: hand/hand_1702115323.4399226.png  \n",
            "  inflating: hand/hand_1702115323.7516346.png  \n",
            "  inflating: hand/hand_1702115324.0787475.png  \n",
            "  inflating: hand/hand_1702115324.3985245.png  \n",
            "  inflating: hand/hand_1702115324.7029545.png  \n",
            "  inflating: hand/hand_1702115325.0154114.png  \n",
            "  inflating: hand/hand_1702115325.423802.png  \n",
            "  inflating: hand/hand_1702115325.7585151.png  \n",
            "  inflating: hand/hand_1702115326.0769272.png  \n",
            "  inflating: hand/hand_1702115326.4131536.png  \n",
            "  inflating: hand/hand_1702115327.2155955.png  \n",
            "  inflating: hand/hand_1702115327.855035.png  \n",
            "  inflating: hand/hand_1702115328.5963411.png  \n",
            "  inflating: hand/hand_1702115329.7068875.png  \n",
            "  inflating: hand/hand_1702115330.4188473.png  \n",
            "  inflating: hand/hand_1702115330.736438.png  \n",
            "  inflating: hand/hand_1702115331.0608683.png  \n",
            "  inflating: hand/hand_1702115331.469057.png  \n",
            "  inflating: hand/hand_1702115331.8038538.png  \n",
            "  inflating: hand/hand_1702115332.664466.png  \n",
            "  inflating: hand/hand_1702115332.9695933.png  \n",
            "  inflating: hand/hand_1702115333.6312554.png  \n",
            "  inflating: hand/hand_1702115361.7004142.png  \n",
            "  inflating: hand/hand_1702115362.0140007.png  \n",
            "  inflating: hand/hand_1702115362.3184447.png  \n",
            "  inflating: hand/hand_1702115362.6320786.png  \n",
            "  inflating: hand/hand_1702115362.956225.png  \n",
            "  inflating: hand/hand_1702115363.268491.png  \n",
            "  inflating: hand/hand_1702115363.582673.png  \n",
            "  inflating: hand/hand_1702115363.9029872.png  \n",
            "  inflating: hand/hand_1702115364.2241287.png  \n",
            "  inflating: hand/hand_1702115364.52868.png  \n",
            "  inflating: hand/hand_1702115364.8510604.png  \n",
            "  inflating: hand/hand_1702115365.186052.png  \n",
            "  inflating: hand/hand_1702115365.5126133.png  \n",
            "  inflating: hand/hand_1702115366.398082.png  \n",
            "  inflating: hand/hand_1702115366.7099829.png  \n",
            "  inflating: hand/hand_1702115367.4093335.png  \n",
            "  inflating: hand/hand_1702115367.736601.png  \n",
            "  inflating: hand/hand_1702115368.2023094.png  \n",
            "  inflating: hand/hand_1702115368.526389.png  \n",
            "  inflating: hand/hand_1702115368.8476686.png  \n",
            "  inflating: hand/hand_1702115369.3581836.png  \n",
            "  inflating: hand/hand_1702115568.3684309.png  \n",
            "  inflating: hand/hand_1702115568.6874776.png  \n",
            "  inflating: hand/hand_1702115569.63165.png  \n",
            "  inflating: hand/hand_1702115570.3364773.png  \n",
            "  inflating: hand/hand_1702115570.650055.png  \n",
            "  inflating: hand/hand_1702115570.967426.png  \n",
            "  inflating: hand/hand_1702115571.2875369.png  \n",
            "  inflating: hand/hand_1702115571.6294072.png  \n",
            "  inflating: hand/hand_1702115571.951675.png  \n",
            "  inflating: hand/hand_1702115572.275302.png  \n",
            "  inflating: hand/hand_1702115572.6007228.png  \n",
            "  inflating: hand/hand_1702115572.915815.png  \n",
            "  inflating: hand/hand_1702115573.2342281.png  \n",
            "  inflating: hand/hand_1702115573.9167924.png  \n",
            "  inflating: hand/hand_1702115575.362013.png  \n",
            "  inflating: hand/hand_1702115576.0753436.png  \n",
            "  inflating: hand/hand_1702115576.432608.png  \n",
            "  inflating: hand/hand_1702115576.7444875.png  \n",
            "  inflating: hand/hand_1702115577.041821.png  \n",
            "  inflating: hand/hand_1702115577.3662188.png  \n",
            "  inflating: hand/hand_1702115578.0664482.png  \n",
            "  inflating: hand/hand_1702115578.3726165.png  \n",
            "  inflating: hand/hand_1702115579.048543.png  \n",
            "  inflating: hand/hand_1702115579.3536913.png  \n",
            "  inflating: hand/hand_1702115579.7537918.png  \n",
            "  inflating: hand/hand_1702115580.1744733.png  \n",
            "  inflating: hand/hand_1702115580.781861.png  \n",
            "  inflating: hand/hand_1702115581.0921001.png  \n",
            "  inflating: hand/hand_1702115581.504334.png  \n",
            "  inflating: hand/hand_1702115581.8165307.png  \n",
            "  inflating: hand/hand_1702115582.2204967.png  \n",
            "  inflating: hand/hand_1702115582.9036195.png  \n",
            "  inflating: hand/hand_1702115583.2057643.png  \n",
            "  inflating: hand/hand_1702115583.7842517.png  \n",
            "  inflating: hand/hand_1702115585.2107742.png  \n",
            "  inflating: hand/hand_1702115585.7180798.png  \n",
            "  inflating: hand/hand_1702115586.3975809.png  \n",
            "  inflating: hand/hand_1702115586.710007.png  \n",
            "  inflating: hand/hand_1702115587.0274136.png  \n",
            "  inflating: hand/hand_1702115587.3356092.png  \n",
            "  inflating: hand/hand_1702115587.663416.png  \n",
            "  inflating: hand/hand_1702115588.0612097.png  \n",
            "  inflating: hand/hand_1702115588.6614902.png  \n",
            "  inflating: hand/hand_1702115588.971442.png  \n",
            "  inflating: hand/hand_1702115589.2824326.png  \n",
            "  inflating: hand/hand_1702115589.6091335.png  \n",
            "  inflating: hand/hand_1702115589.9176855.png  \n",
            "  inflating: hand/hand_1702115590.3154778.png  \n",
            "  inflating: hand/hand_1702115590.8184144.png  \n",
            "  inflating: hand/hand_1702115591.1327746.png  \n",
            "  inflating: hand/hand_1702115645.6158643.png  \n",
            "  inflating: hand/hand_1702115645.9364018.png  \n",
            "  inflating: hand/hand_1702115646.252212.png  \n",
            "  inflating: hand/hand_1702115647.1150813.png  \n",
            "  inflating: hand/hand_1702115647.444071.png  \n",
            "  inflating: hand/hand_1702115648.0397403.png  \n",
            "  inflating: hand/hand_1702115648.7415013.png  \n",
            "  inflating: hand/hand_1702115649.060756.png  \n",
            "  inflating: hand/hand_1702115649.3718655.png  \n",
            "  inflating: hand/hand_1702115652.8749008.png  \n",
            "  inflating: hand/hand_1702115653.651755.png  \n",
            "  inflating: hand/hand_1702115653.9695015.png  \n",
            "  inflating: hand/hand_1702115655.344306.png  \n",
            "  inflating: hand/hand_1702115655.6607347.png  \n",
            "  inflating: hand/hand_1702115656.6086466.png  \n",
            "  inflating: hand/hand_1702115657.3140523.png  \n",
            "  inflating: hand/hand_1702115658.075371.png  \n",
            "  inflating: hand/hand_1702115658.3895757.png  \n",
            "  inflating: hand/hand_1702115658.9660757.png  \n",
            "  inflating: hand/hand_1702115659.4671865.png  \n",
            "  inflating: hand/hand_1702115659.7823076.png  \n",
            "  inflating: hand/hand_1702115660.0951648.png  \n",
            "  inflating: hand/hand_1702115660.760662.png  \n",
            "  inflating: hand/hand_1702115661.5317469.png  \n",
            "  inflating: hand/hand_1702115662.2112787.png  \n",
            "  inflating: hand/hand_1702115662.7914689.png  \n",
            "  inflating: hand/hand_1702115663.367868.png  \n",
            "  inflating: hand/hand_1702115663.851922.png  \n",
            "  inflating: hand/hand_1702115664.4293418.png  \n",
            "  inflating: hand/hand_1702115664.921677.png  \n",
            "  inflating: hand/hand_1702115665.4963644.png  \n",
            "  inflating: hand/hand_1702115665.8006892.png  \n",
            "  inflating: hand/hand_1702115666.3805146.png  \n",
            "  inflating: hand/hand_1702115666.700925.png  \n",
            "  inflating: hand/hand_1702115667.0938706.png  \n",
            "  inflating: hand/hand_1702115667.394094.png  \n",
            "  inflating: hand/hand_1702115667.8004096.png  \n",
            "  inflating: hand/hand_1702115668.568539.png  \n",
            "  inflating: hand/hand_1702115669.2518024.png  \n",
            "  inflating: hand/hand_1702115669.9279044.png  \n",
            "  inflating: hand/hand_1702115670.6023443.png  \n",
            "  inflating: hand/hand_1702115670.9173455.png  \n",
            "  inflating: hand/hand_1702115671.5894015.png  \n",
            "  inflating: hand/hand_1702115672.19402.png  \n",
            "  inflating: hand/hand_1702115672.6969457.png  \n",
            "  inflating: hand/hand_1702115673.3760586.png  \n",
            "  inflating: hand/hand_1702115673.8702328.png  \n",
            "  inflating: hand/hand_1702115674.5335238.png  \n",
            "  inflating: hand/hand_1702115675.0214305.png  \n",
            "  inflating: hand/hand_1702115675.6068103.png  \n",
            "  inflating: hand/hand_1702115744.810677.png  \n",
            "  inflating: hand/hand_1702115745.4995449.png  \n",
            "  inflating: hand/hand_1702115745.992372.png  \n",
            "  inflating: hand/hand_1702115746.5540423.png  \n",
            "  inflating: hand/hand_1702115747.1468449.png  \n",
            "  inflating: hand/hand_1702115747.7314932.png  \n",
            "  inflating: hand/hand_1702115748.4224837.png  \n",
            "  inflating: hand/hand_1702115748.7282653.png  \n",
            "  inflating: hand/hand_1702115749.21741.png  \n",
            "  inflating: hand/hand_1702115749.9068215.png  \n",
            "  inflating: hand/hand_1702115750.22724.png  \n",
            "  inflating: hand/hand_1702115750.829514.png  \n",
            "  inflating: hand/hand_1702115751.1641703.png  \n",
            "  inflating: hand/hand_1702115751.6704745.png  \n",
            "  inflating: hand/hand_1702115752.6016123.png  \n",
            "  inflating: hand/hand_1702115752.9306922.png  \n",
            "  inflating: hand/hand_1702115753.4046364.png  \n",
            "  inflating: hand/hand_1702115753.8989685.png  \n",
            "  inflating: hand/hand_1702115754.2032924.png  \n",
            "  inflating: hand/hand_1702115754.773666.png  \n",
            "  inflating: hand/hand_1702115755.2549303.png  \n",
            "  inflating: hand/hand_1702115755.8406034.png  \n",
            "  inflating: hand/hand_1702115756.4172144.png  \n",
            "  inflating: hand/hand_1702115756.9194877.png  \n",
            "  inflating: hand/hand_1702115757.4150898.png  \n",
            "  inflating: hand/hand_1702115758.0755758.png  \n",
            "  inflating: hand/hand_1702115758.5675302.png  \n",
            "  inflating: hand/hand_1702115759.262188.png  \n",
            "  inflating: hand/hand_1702115759.7419813.png  \n",
            "  inflating: hand/hand_1702115760.0584846.png  \n",
            "  inflating: hand/hand_1702115760.4534218.png  \n",
            "  inflating: hand/hand_1702115761.0316546.png  \n",
            "  inflating: hand/hand_1702115761.6261144.png  \n",
            "  inflating: hand/hand_1702115762.1881633.png  \n",
            "  inflating: hand/hand_1702115762.8514383.png  \n",
            "  inflating: hand/hand_1702115763.4266348.png  \n",
            "  inflating: hand/hand_1702115764.0045903.png  \n",
            "  inflating: hand/hand_1702115764.3176577.png  \n",
            "  inflating: hand/hand_1702115764.6372435.png  \n",
            "  inflating: hand/hand_1702115764.945527.png  \n",
            "  inflating: hand/hand_1702115765.260916.png  \n",
            "  inflating: hand/hand_1702115765.5656161.png  \n",
            "  inflating: hand/hand_1702115765.8842285.png  \n",
            "  inflating: hand/hand_1702115766.2012901.png  \n",
            "  inflating: hand/hand_1702115766.516204.png  \n",
            "  inflating: hand/hand_1702115766.8225243.png  \n",
            "  inflating: hand/hand_1702115767.128914.png  \n",
            "  inflating: hand/hand_1702115767.4505093.png  \n",
            "  inflating: hand/hand_1702115767.7637823.png  \n",
            "  inflating: hand/hand_1702115768.0814784.png  \n",
            "  inflating: hand/hand_1702115800.6571717.png  \n",
            "  inflating: hand/hand_1702115801.4323783.png  \n",
            "  inflating: hand/hand_1702115801.7379653.png  \n",
            "  inflating: hand/hand_1702115802.0658884.png  \n",
            "  inflating: hand/hand_1702115802.3754747.png  \n",
            "  inflating: hand/hand_1702115802.686871.png  \n",
            "  inflating: hand/hand_1702115802.9949074.png  \n",
            "  inflating: hand/hand_1702115803.303561.png  \n",
            "  inflating: hand/hand_1702115803.6139233.png  \n",
            "  inflating: hand/hand_1702115803.9324608.png  \n",
            "  inflating: hand/hand_1702115804.2361975.png  \n",
            "  inflating: hand/hand_1702115804.5525775.png  \n",
            "  inflating: hand/hand_1702115804.8610427.png  \n",
            "  inflating: hand/hand_1702115805.1671019.png  \n",
            "  inflating: hand/hand_1702115805.482348.png  \n",
            "  inflating: hand/hand_1702115805.807009.png  \n",
            "  inflating: hand/hand_1702115806.128293.png  \n",
            "  inflating: hand/hand_1702115806.4418635.png  \n",
            "  inflating: hand/hand_1702115806.755552.png  \n",
            "  inflating: hand/hand_1702115807.0693016.png  \n",
            "  inflating: hand/hand_1702115807.3779473.png  \n",
            "  inflating: hand/hand_1702115807.6876056.png  \n",
            "  inflating: hand/hand_1702115808.0018473.png  \n",
            "  inflating: hand/hand_1702115808.3122296.png  \n",
            "  inflating: hand/hand_1702115808.6322827.png  \n",
            "  inflating: hand/hand_1702115808.9360192.png  \n",
            "  inflating: hand/hand_1702115809.24955.png  \n",
            "  inflating: hand/hand_1702115809.5654023.png  \n",
            "  inflating: hand/hand_1702115809.8668845.png  \n",
            "  inflating: hand/hand_1702115810.1792831.png  \n",
            "  inflating: hand/hand_1702115810.5008667.png  \n",
            "  inflating: hand/hand_1702115810.8057637.png  \n",
            "  inflating: hand/hand_1702115811.1146805.png  \n",
            "  inflating: hand/hand_1702115811.4313788.png  \n",
            "  inflating: hand/hand_1702115811.7423425.png  \n",
            "  inflating: hand/hand_1702115812.0515459.png  \n",
            "  inflating: hand/hand_1702115812.3619413.png  \n",
            "  inflating: hand/hand_1702115812.6735055.png  \n",
            "  inflating: hand/hand_1702115812.9861927.png  \n",
            "  inflating: hand/hand_1702115813.2992897.png  \n",
            "  inflating: hand/hand_1702115813.601132.png  \n",
            "  inflating: hand/hand_1702115813.9141228.png  \n",
            "  inflating: hand/hand_1702115814.2367885.png  \n",
            "  inflating: hand/hand_1702115814.5494602.png  \n",
            "  inflating: hand/hand_1702115814.8688843.png  \n",
            "  inflating: hand/hand_1702115816.6053157.png  \n",
            "  inflating: hand/hand_1702115816.933462.png  \n",
            "  inflating: hand/hand_1702115817.250227.png  \n",
            "  inflating: hand/hand_1702115817.5633957.png  \n",
            "  inflating: hand/hand_1702115817.8752642.png  \n",
            "  inflating: hand/hand_1702115863.268491.png  \n",
            "  inflating: hand/hand_1702115863.585637.png  \n",
            "  inflating: hand/hand_1702115863.893071.png  \n",
            "  inflating: hand/hand_1702115864.2093291.png  \n",
            "  inflating: hand/hand_1702115864.519674.png  \n",
            "  inflating: hand/hand_1702115864.8314116.png  \n",
            "  inflating: hand/hand_1702115865.160483.png  \n",
            "  inflating: hand/hand_1702115865.470621.png  \n",
            "  inflating: hand/hand_1702115865.7794123.png  \n",
            "  inflating: hand/hand_1702115866.096394.png  \n",
            "  inflating: hand/hand_1702115866.4133527.png  \n",
            "  inflating: hand/hand_1702115866.7429833.png  \n",
            "  inflating: hand/hand_1702115867.0942614.png  \n",
            "  inflating: hand/hand_1702115867.4113078.png  \n",
            "  inflating: hand/hand_1702115867.7219403.png  \n",
            "  inflating: hand/hand_1702115868.2491238.png  \n",
            "  inflating: hand/hand_1702115868.5693712.png  \n",
            "  inflating: hand/hand_1702115868.889344.png  \n",
            "  inflating: hand/hand_1702115869.224873.png  \n",
            "  inflating: hand/hand_1702115869.5480816.png  \n",
            "  inflating: hand/hand_1702115869.8604054.png  \n",
            "  inflating: hand/hand_1702115870.1791546.png  \n",
            "  inflating: hand/hand_1702115870.4923894.png  \n",
            "  inflating: hand/hand_1702115870.8078594.png  \n",
            "  inflating: hand/hand_1702115871.1336298.png  \n",
            "  inflating: hand/hand_1702115871.4522865.png  \n",
            "  inflating: hand/hand_1702115871.7722857.png  \n",
            "  inflating: hand/hand_1702115872.1016924.png  \n",
            "  inflating: hand/hand_1702115872.4166758.png  \n",
            "  inflating: hand/hand_1702115918.6821024.png  \n",
            "  inflating: hand/hand_1702115920.8531082.png  \n",
            "  inflating: hand/hand_1702115921.1652606.png  \n",
            "  inflating: hand/hand_1702115921.5796235.png  \n",
            "  inflating: hand/hand_1702115921.9016936.png  \n",
            "  inflating: hand/hand_1702115922.2142613.png  \n",
            "  inflating: hand/hand_1702115922.5257647.png  \n",
            "  inflating: hand/hand_1702115922.8333292.png  \n",
            "  inflating: hand/hand_1702115928.3585613.png  \n",
            "  inflating: hand/hand_1702115928.831632.png  \n",
            "  inflating: hand/hand_1702115929.1472888.png  \n",
            "  inflating: hand/hand_1702115929.538471.png  \n",
            "  inflating: hand/hand_1702115929.8488996.png  \n",
            "  inflating: hand/hand_1702115931.155244.png  \n",
            "  inflating: hand/hand_1702115931.6381345.png  \n",
            "  inflating: hand/hand_1702115931.951346.png  \n",
            "  inflating: hand/hand_1702115932.2620137.png  \n",
            "  inflating: hand/hand_1702115932.5718307.png  \n",
            "  inflating: hand/hand_1702115932.8863924.png  \n",
            "  inflating: hand/hand_1702115933.1963904.png  \n",
            "  inflating: hand/hand_1702115933.499559.png  \n",
            "  inflating: hand/hand_1702115968.3669298.png  \n",
            "  inflating: hand/hand_1702115968.685522.png  \n",
            "  inflating: hand/hand_1702115968.9952404.png  \n",
            "  inflating: hand/hand_1702115969.3006449.png  \n",
            "  inflating: hand/hand_1702115969.6250207.png  \n",
            "  inflating: hand/hand_1702115969.9460037.png  \n",
            "  inflating: hand/hand_1702115970.2677436.png  \n",
            "  inflating: hand/hand_1702115970.5802345.png  \n",
            "  inflating: hand/hand_1702115970.8854403.png  \n",
            "  inflating: hand/hand_1702115971.1989138.png  \n",
            "  inflating: hand/hand_1702115979.6369073.png  \n",
            "  inflating: hand/hand_1702116004.6773531.png  \n",
            "  inflating: hand/hand_1702116004.9869132.png  \n",
            "  inflating: hand/hand_1702116005.3093755.png  \n",
            "  inflating: hand/hand_1702116005.6235938.png  \n",
            "  inflating: hand/hand_1702116005.9382973.png  \n",
            "  inflating: hand/hand_1702116006.2464612.png  \n",
            "  inflating: hand/hand_1702116006.5513167.png  \n",
            "  inflating: hand/hand_1702116006.8639607.png  \n",
            "  inflating: hand/hand_1702116007.1752608.png  \n",
            "  inflating: hand/hand_1702116007.49093.png  \n",
            "  inflating: hand/hand_1702116007.8002276.png  \n",
            "  inflating: hand/hand_1702116008.1204355.png  \n",
            "  inflating: hand/hand_1702116008.435169.png  \n",
            "  inflating: hand/hand_1702116008.833292.png  \n",
            "  inflating: hand/hand_1702116009.1535263.png  \n",
            "  inflating: hand/hand_1702116009.466092.png  \n",
            "  inflating: hand/hand_1702116009.7763202.png  \n",
            "  inflating: hand/hand_1702116010.1089358.png  \n",
            "  inflating: hand/hand_1702116010.4088798.png  \n",
            "  inflating: hand/hand_1702116010.7299702.png  \n",
            "  inflating: hand/hand_1702116011.0517807.png  \n",
            "  inflating: hand/hand_1702116011.3617444.png  \n",
            "  inflating: hand/hand_1702116011.679149.png  \n",
            "  inflating: hand/hand_1702116011.9867077.png  \n",
            "  inflating: hand/hand_1702116012.298649.png  \n",
            "  inflating: hand/hand_1702116012.603055.png  \n",
            "  inflating: hand/hand_1702116015.1945014.png  \n",
            "  inflating: hand/hand_1702116016.5937269.png  \n",
            "  inflating: hand/hand_1702116016.9074407.png  \n",
            "  inflating: hand/hand_1702116017.2384686.png  \n",
            "  inflating: hand/hand_1702116017.5431888.png  \n",
            "  inflating: hand/hand_1702116017.853259.png  \n",
            "  inflating: hand/hand_1702116018.1680722.png  \n",
            "  inflating: hand/hand_1702116018.4750252.png  \n",
            "  inflating: hand/hand_1702116018.7902975.png  \n",
            "  inflating: hand/hand_1702116019.1095579.png  \n",
            "  inflating: hand/hand_1702116019.4172864.png  \n",
            "  inflating: hand/hand_1702116019.7369165.png  \n",
            "  inflating: hand/hand_1702116020.0615675.png  \n",
            "  inflating: hand/hand_1702116075.6458797.png  \n",
            "  inflating: hand/hand_1702116075.9554405.png  \n",
            "  inflating: hand/hand_1702116076.2657166.png  \n",
            "  inflating: hand/hand_1702116076.5700386.png  \n",
            "  inflating: hand/hand_1702116076.8859477.png  \n",
            "  inflating: hand/hand_1702116077.2036462.png  \n",
            "  inflating: hand/hand_1702116077.5195415.png  \n",
            "  inflating: hand/hand_1702116077.833623.png  \n",
            "  inflating: hand/hand_1702116078.1442842.png  \n",
            "  inflating: hand/hand_1702116078.4982467.png  \n",
            "  inflating: hand/hand_1702116078.819044.png  \n",
            "  inflating: hand/hand_1702116079.1301112.png  \n",
            "  inflating: hand/hand_1702116079.4387333.png  \n",
            "  inflating: hand/hand_1702116079.7469075.png  \n",
            "  inflating: hand/hand_1702116080.0570855.png  \n",
            "  inflating: hand/hand_1702116080.3664808.png  \n",
            "  inflating: hand/hand_1702116080.6797907.png  \n",
            "  inflating: hand/hand_1702116080.9994178.png  \n",
            "  inflating: hand/hand_1702116081.318641.png  \n",
            "  inflating: hand/hand_1702116081.6404648.png  \n",
            "  inflating: hand/hand_1702116081.956613.png  \n",
            "  inflating: hand/hand_1702116082.279847.png  \n",
            "  inflating: hand/hand_1702116082.5968075.png  \n",
            "  inflating: hand/hand_1702116082.931489.png  \n",
            "  inflating: hand/hand_1702116083.247772.png  \n",
            "  inflating: hand/hand_1702116083.5683227.png  \n",
            "  inflating: hand/hand_1702116083.8850253.png  \n",
            "  inflating: hand/hand_1702116084.2044964.png  \n",
            "  inflating: hand/hand_1702116084.5190952.png  \n",
            "  inflating: hand/hand_1702116084.825622.png  \n",
            "  inflating: hand/hand_1702116085.1410806.png  \n",
            "  inflating: hand/hand_1702116085.451895.png  \n",
            "  inflating: hand/hand_1702116085.7700052.png  \n",
            "  inflating: hand/hand_1702116086.0892146.png  \n",
            "  inflating: hand/hand_1702116086.5078118.png  \n",
            "  inflating: hand/hand_1702116086.9158602.png  \n",
            "  inflating: hand/hand_1702116087.7787244.png  \n",
            "  inflating: hand/hand_1702116088.0867445.png  \n",
            "  inflating: hand/hand_1702116088.49024.png  \n",
            "  inflating: hand/hand_1702116089.0750413.png  \n",
            "  inflating: hand/hand_1702116089.6582723.png  \n",
            "  inflating: hand/hand_1702116090.2444916.png  \n",
            "  inflating: hand/hand_1702116090.822747.png  \n",
            "  inflating: hand/hand_1702116091.4171379.png  \n",
            "  inflating: hand/hand_1702116091.8990219.png  \n",
            "  inflating: hand/hand_1702116092.4829931.png  \n",
            "  inflating: hand/hand_1702116093.3288217.png  \n",
            "  inflating: hand/hand_1702116094.2106009.png  \n",
            "  inflating: hand/hand_1702116095.0034657.png  \n",
            "  inflating: hand/hand_1702116095.5062876.png  \n",
            "  inflating: hand/hand_1702116111.255576.png  \n",
            "  inflating: hand/hand_1702116111.6036012.png  \n",
            "  inflating: hand/hand_1702116111.9210613.png  \n",
            "  inflating: hand/hand_1702116112.2308564.png  \n",
            "  inflating: hand/hand_1702116112.5369484.png  \n",
            "  inflating: hand/hand_1702116112.8496575.png  \n",
            "  inflating: hand/hand_1702116113.1676824.png  \n",
            "  inflating: hand/hand_1702116113.4779484.png  \n",
            "  inflating: hand/hand_1702116113.798364.png  \n",
            "  inflating: hand/hand_1702116114.110244.png  \n",
            "  inflating: hand/hand_1702116114.9782388.png  \n",
            "  inflating: hand/hand_1702116115.3712823.png  \n",
            "  inflating: hand/hand_1702116115.6830873.png  \n",
            "  inflating: hand/hand_1702116116.0003803.png  \n",
            "  inflating: hand/hand_1702116116.3143241.png  \n",
            "  inflating: hand/hand_1702116116.9073412.png  \n",
            "  inflating: hand/hand_1702116117.7679884.png  \n",
            "  inflating: hand/hand_1702116118.2431128.png  \n",
            "  inflating: hand/hand_1702116118.5629108.png  \n",
            "  inflating: hand/hand_1702116119.5128558.png  \n",
            "  inflating: hand/hand_1702116120.1161394.png  \n",
            "  inflating: hand/hand_1702116120.4182186.png  \n",
            "  inflating: hand/hand_1702116120.7363875.png  \n",
            "  inflating: hand/hand_1702116121.0521388.png  \n",
            "  inflating: hand/hand_1702116121.3704777.png  \n",
            "  inflating: hand/hand_1702116121.6860247.png  \n",
            "  inflating: hand/hand_1702116121.9941387.png  \n",
            "  inflating: hand/hand_1702116122.3019195.png  \n",
            "  inflating: hand/hand_1702116122.6139226.png  \n",
            "  inflating: hand/hand_1702116122.9277716.png  \n",
            "  inflating: hand/hand_1702116123.3242054.png  \n",
            "  inflating: hand/hand_1702116123.9868004.png  \n",
            "  inflating: hand/hand_1702116124.4886904.png  \n",
            "  inflating: hand/hand_1702116124.814853.png  \n",
            "  inflating: hand/hand_1702116125.29575.png  \n",
            "  inflating: hand/hand_1702116125.780797.png  \n",
            "  inflating: hand/hand_1702116126.257183.png  \n",
            "  inflating: hand/hand_1702116126.8488166.png  \n",
            "  inflating: hand/hand_1702116127.5277874.png  \n",
            "  inflating: hand/hand_1702116128.0490468.png  \n",
            "  inflating: hand/hand_1702116128.5402968.png  \n",
            "  inflating: hand/hand_1702116129.1180053.png  \n",
            "  inflating: hand/hand_1702116129.70683.png  \n",
            "  inflating: hand/hand_1702116130.191594.png  \n",
            "  inflating: hand/hand_1702116130.8867548.png  \n",
            "  inflating: hand/hand_1702116131.3705509.png  \n",
            "  inflating: hand/hand_1702116131.9659333.png  \n",
            "  inflating: hand/hand_1702116132.4631817.png  \n",
            "  inflating: hand/hand_1702116132.9867375.png  \n",
            "  inflating: hand/hand_1702116133.638952.png  \n",
            "  inflating: hand/hand_1702116150.242902.png  \n",
            "  inflating: hand/hand_1702116153.7943027.png  \n",
            "  inflating: hand/hand_1702116154.463659.png  \n",
            "  inflating: hand/hand_1702116154.9600399.png  \n",
            "  inflating: hand/hand_1702116155.625008.png  \n",
            "  inflating: hand/hand_1702116155.9416199.png  \n",
            "  inflating: hand/hand_1702116156.3451316.png  \n",
            "  inflating: hand/hand_1702116156.7391539.png  \n",
            "  inflating: hand/hand_1702116157.1361444.png  \n",
            "  inflating: hand/hand_1702116157.4532156.png  \n",
            "  inflating: hand/hand_1702116157.7667847.png  \n",
            "  inflating: hand/hand_1702116158.526313.png  \n",
            "  inflating: hand/hand_1702116158.8408878.png  \n",
            "  inflating: hand/hand_1702116159.1639879.png  \n",
            "  inflating: hand/hand_1702116159.480966.png  \n",
            "  inflating: hand/hand_1702116159.793747.png  \n",
            "  inflating: hand/hand_1702116160.1063328.png  \n",
            "  inflating: hand/hand_1702116160.4131122.png  \n",
            "  inflating: hand/hand_1702116161.9810252.png  \n",
            "  inflating: hand/hand_1702116162.4577258.png  \n",
            "  inflating: hand/hand_1702116163.0307233.png  \n",
            "  inflating: hand/hand_1702116163.3353293.png  \n",
            "  inflating: hand/hand_1702116164.0378535.png  \n",
            "  inflating: hand/hand_1702116164.3397582.png  \n",
            "  inflating: hand/hand_1702116164.6529205.png  \n",
            "  inflating: hand/hand_1702116165.0448933.png  \n",
            "  inflating: hand/hand_1702116165.5287342.png  \n",
            "  inflating: hand/hand_1702116166.0017302.png  \n",
            "  inflating: hand/hand_1702116166.4987464.png  \n",
            "  inflating: hand/hand_1702116167.0681531.png  \n",
            "  inflating: hand/hand_1702116167.6519606.png  \n",
            "  inflating: hand/hand_1702116168.2268975.png  \n",
            "  inflating: hand/hand_1702116168.8004787.png  \n",
            "  inflating: hand/hand_1702116172.669193.png  \n",
            "  inflating: hand/hand_1702116173.2399676.png  \n",
            "  inflating: hand/hand_1702116173.7162683.png  \n",
            "  inflating: hand/hand_1702116174.4869568.png  \n",
            "  inflating: hand/hand_1702116174.9740908.png  \n",
            "  inflating: hand/hand_1702116175.2866828.png  \n",
            "  inflating: hand/hand_1702116175.691617.png  \n",
            "  inflating: hand/hand_1702116176.0119402.png  \n",
            "  inflating: hand/hand_1702116176.502046.png  \n",
            "  inflating: hand/hand_1702116177.0791204.png  \n",
            "  inflating: hand/hand_1702116177.557249.png  \n",
            "  inflating: hand/hand_1702116178.1230464.png  \n",
            "  inflating: hand/hand_1702116178.8138106.png  \n",
            "  inflating: hand/hand_1702116179.3826427.png  \n",
            "  inflating: hand/hand_1702116179.6967742.png  \n",
            "  inflating: hand/hand_1702116180.0945485.png  \n",
            "  inflating: hand/hand_1702116181.8432248.png  \n",
            "  inflating: hand/hand_1702116187.2767286.png  \n",
            "  inflating: hand/hand_1702116187.6435678.png  \n",
            "  inflating: hand/hand_1702116187.9635093.png  \n",
            "  inflating: hand/hand_1702116188.2729208.png  \n",
            "  inflating: hand/hand_1702116188.5815544.png  \n",
            "  inflating: hand/hand_1702116188.8943808.png  \n",
            "  inflating: hand/hand_1702116189.2030265.png  \n",
            "  inflating: hand/hand_1702116189.5160341.png  \n",
            "  inflating: hand/hand_1702116189.825623.png  \n",
            "  inflating: hand/hand_1702116190.136759.png  \n",
            "  inflating: hand/hand_1702116190.4562757.png  \n",
            "  inflating: hand/hand_1702116190.7719443.png  \n",
            "  inflating: hand/hand_1702116191.0901337.png  \n",
            "  inflating: hand/hand_1702116191.7697718.png  \n",
            "  inflating: hand/hand_1702116192.0763955.png  \n",
            "  inflating: hand/hand_1702116192.478809.png  \n",
            "  inflating: hand/hand_1702116193.0708952.png  \n",
            "  inflating: hand/hand_1702116193.7452214.png  \n",
            "  inflating: hand/hand_1702116194.0608206.png  \n",
            "  inflating: hand/hand_1702116194.5416584.png  \n",
            "  inflating: hand/hand_1702116195.1283305.png  \n",
            "  inflating: hand/hand_1702116195.7093456.png  \n",
            "  inflating: hand/hand_1702116196.1945655.png  \n",
            "  inflating: hand/hand_1702116196.7710907.png  \n",
            "  inflating: hand/hand_1702116197.1676862.png  \n",
            "  inflating: hand/hand_1702116197.7525861.png  \n",
            "  inflating: hand/hand_1702116198.3387747.png  \n",
            "  inflating: hand/hand_1702116198.6510823.png  \n",
            "  inflating: hand/hand_1702116198.9715445.png  \n",
            "  inflating: hand/hand_1702116199.9218364.png  \n",
            "  inflating: hand/hand_1702116200.3977149.png  \n",
            "  inflating: hand/hand_1702116200.98358.png  \n",
            "  inflating: hand/hand_1702116201.5505757.png  \n",
            "  inflating: hand/hand_1702116202.234734.png  \n",
            "  inflating: hand/hand_1702116202.537171.png  \n",
            "  inflating: hand/hand_1702116202.8438363.png  \n",
            "  inflating: hand/hand_1702116203.1543214.png  \n",
            "  inflating: hand/hand_1702116203.472886.png  \n",
            "  inflating: hand/hand_1702116203.7808611.png  \n",
            "  inflating: hand/hand_1702116204.0937903.png  \n",
            "  inflating: hand/hand_1702116204.6870437.png  \n",
            "  inflating: hand/hand_1702116205.1710696.png  \n",
            "  inflating: hand/hand_1702116205.662875.png  \n",
            "  inflating: hand/hand_1702116206.22441.png  \n",
            "  inflating: hand/hand_1702116206.8820124.png  \n",
            "  inflating: hand/hand_1702116207.4690695.png  \n",
            "  inflating: hand/hand_1702116208.0571885.png  \n",
            "  inflating: hand/hand_1702116208.8242037.png  \n",
            "  inflating: hand/hand_1702116209.2397234.png  \n",
            "  inflating: hand/hand_1702116209.630879.png  \n",
            "  inflating: hand/hand_1702116239.1315656.png  \n",
            "  inflating: hand/hand_1702116239.8053944.png  \n",
            "  inflating: hand/hand_1702116241.903403.png  \n",
            "  inflating: hand/hand_1702116242.2209978.png  \n",
            "  inflating: hand/hand_1702116242.620992.png  \n",
            "  inflating: hand/hand_1702116243.09392.png  \n",
            "  inflating: hand/hand_1702116243.9659026.png  \n",
            "  inflating: hand/hand_1702116244.2809165.png  \n",
            "  inflating: hand/hand_1702116244.8389018.png  \n",
            "  inflating: hand/hand_1702116245.221508.png  \n",
            "  inflating: hand/hand_1702116247.8900993.png  \n",
            "  inflating: hand/hand_1702116248.4699128.png  \n",
            "  inflating: hand/hand_1702116251.569581.png  \n",
            "  inflating: hand/hand_1702116251.8840804.png  \n",
            "  inflating: hand/hand_1702116252.7281563.png  \n",
            "  inflating: hand/hand_1702116253.8805833.png  \n",
            "  inflating: hand/hand_1702116254.18821.png  \n",
            "  inflating: hand/hand_1702116254.503859.png  \n",
            "  inflating: hand/hand_1702116255.2845974.png  \n",
            "  inflating: hand/hand_1702116255.5999882.png  \n",
            "  inflating: hand/hand_1702116256.0007918.png  \n",
            "  inflating: hand/hand_1702116256.3147175.png  \n",
            "  inflating: hand/hand_1702116256.624519.png  \n",
            "  inflating: hand/hand_1702116256.9387953.png  \n",
            "  inflating: hand/hand_1702116257.3495305.png  \n",
            "  inflating: hand/hand_1702116257.9356334.png  \n",
            "  inflating: hand/hand_1702116258.2494025.png  \n",
            "  inflating: hand/hand_1702116258.6647441.png  \n",
            "  inflating: hand/hand_1702116258.9849439.png  \n",
            "  inflating: hand/hand_1702116259.4904766.png  \n",
            "  inflating: hand/hand_1702116260.071539.png  \n",
            "  inflating: hand/hand_1702116260.5937066.png  \n",
            "  inflating: hand/hand_1702116260.9108377.png  \n",
            "  inflating: hand/hand_1702116261.3076007.png  \n",
            "  inflating: hand/hand_1702116261.7062397.png  \n",
            "  inflating: hand/hand_1702116262.039973.png  \n",
            "  inflating: hand/hand_1702116262.3532612.png  \n",
            "  inflating: hand/hand_1702116262.669756.png  \n",
            "  inflating: hand/hand_1702116262.9858367.png  \n",
            "  inflating: hand/hand_1702116263.2966456.png  \n",
            "  inflating: hand/hand_1702116263.6035624.png  \n",
            "  inflating: hand/hand_1702116263.9188702.png  \n",
            "  inflating: hand/hand_1702116264.7007544.png  \n",
            "  inflating: hand/hand_1702116265.0109835.png  \n",
            "  inflating: hand/hand_1702116265.3319924.png  \n",
            "  inflating: hand/hand_1702116265.6480093.png  \n",
            "  inflating: hand/hand_1702116265.9551673.png  \n",
            "  inflating: hand/hand_1702116266.2806568.png  \n",
            "  inflating: hand/hand_1702116266.601864.png  \n",
            "  inflating: hand/hand_1702116267.1885178.png  \n",
            "  inflating: hand/hand_1702116273.535169.png  \n",
            "  inflating: hand/hand_1702116273.901185.png  \n",
            "  inflating: hand/hand_1702116274.208686.png  \n",
            "  inflating: hand/hand_1702116274.5230963.png  \n",
            "  inflating: hand/hand_1702116274.8313746.png  \n",
            "  inflating: hand/hand_1702116275.1450934.png  \n",
            "  inflating: hand/hand_1702116275.466259.png  \n",
            "  inflating: hand/hand_1702116275.7841485.png  \n",
            "  inflating: hand/hand_1702116276.0938995.png  \n",
            "  inflating: hand/hand_1702116276.3989122.png  \n",
            "  inflating: hand/hand_1702116276.7239988.png  \n",
            "  inflating: hand/hand_1702116277.035158.png  \n",
            "  inflating: hand/hand_1702116277.3405395.png  \n",
            "  inflating: hand/hand_1702116277.7288008.png  \n",
            "  inflating: hand/hand_1702116278.2490504.png  \n",
            "  inflating: hand/hand_1702116278.873366.png  \n",
            "  inflating: hand/hand_1702116279.3940568.png  \n",
            "  inflating: hand/hand_1702116280.1738617.png  \n",
            "  inflating: hand/hand_1702116280.7995882.png  \n",
            "  inflating: hand/hand_1702116281.3227863.png  \n",
            "  inflating: hand/hand_1702116281.6519678.png  \n",
            "  inflating: hand/hand_1702116282.1843357.png  \n",
            "  inflating: hand/hand_1702116282.7927706.png  \n",
            "  inflating: hand/hand_1702116283.4948232.png  \n",
            "  inflating: hand/hand_1702116284.3556108.png  \n",
            "  inflating: hand/hand_1702116284.664768.png  \n",
            "  inflating: hand/hand_1702116284.9878285.png  \n",
            "  inflating: hand/hand_1702116285.4081357.png  \n",
            "  inflating: hand/hand_1702116285.999541.png  \n",
            "  inflating: hand/hand_1702116286.5146432.png  \n",
            "  inflating: hand/hand_1702116287.6056547.png  \n",
            "  inflating: hand/hand_1702116288.190501.png  \n",
            "  inflating: hand/hand_1702116288.8734965.png  \n",
            "  inflating: hand/hand_1702116289.1861367.png  \n",
            "  inflating: hand/hand_1702116289.6189556.png  \n",
            "  inflating: hand/hand_1702116290.19541.png  \n",
            "  inflating: hand/hand_1702116290.7841175.png  \n",
            "  inflating: hand/hand_1702116291.3828652.png  \n",
            "  inflating: hand/hand_1702116292.078776.png  \n",
            "  inflating: hand/hand_1702116292.9460366.png  \n",
            "  inflating: hand/hand_1702116293.5249302.png  \n",
            "  inflating: hand/hand_1702116293.8335035.png  \n",
            "  inflating: hand/hand_1702116294.2776914.png  \n",
            "  inflating: hand/hand_1702116294.9767187.png  \n",
            "  inflating: hand/hand_1702116295.6428893.png  \n",
            "  inflating: hand/hand_1702116295.9544356.png  \n",
            "  inflating: hand/hand_1702116296.3495817.png  \n",
            "  inflating: hand/hand_1702116296.7377207.png  \n",
            "  inflating: hand/hand_1702116297.1338356.png  \n",
            "  inflating: hand/hand_1702116298.2044122.png  \n",
            "  inflating: hand/hand_1702116319.4714773.png  \n",
            "  inflating: hand/hand_1702116319.79158.png  \n",
            "  inflating: hand/hand_1702116320.1057756.png  \n",
            "  inflating: hand/hand_1702116320.4138014.png  \n",
            "  inflating: hand/hand_1702116320.907838.png  \n",
            "  inflating: hand/hand_1702116321.439602.png  \n",
            "  inflating: hand/hand_1702116322.1088226.png  \n",
            "  inflating: hand/hand_1702116322.4177926.png  \n",
            "  inflating: hand/hand_1702116322.7376275.png  \n",
            "  inflating: hand/hand_1702116323.0481603.png  \n",
            "  inflating: hand/hand_1702116323.3572078.png  \n",
            "  inflating: hand/hand_1702116324.1364079.png  \n",
            "  inflating: hand/hand_1702116324.46163.png  \n",
            "  inflating: hand/hand_1702116325.0647905.png  \n",
            "  inflating: hand/hand_1702116325.3739684.png  \n",
            "  inflating: hand/hand_1702116331.4559762.png  \n",
            "  inflating: hand/hand_1702116331.775465.png  \n",
            "  inflating: hand/hand_1702116332.096509.png  \n",
            "  inflating: hand/hand_1702116332.4169276.png  \n",
            "  inflating: hand/hand_1702116333.1164422.png  \n",
            "  inflating: hand/hand_1702116333.4385533.png  \n",
            "  inflating: hand/hand_1702116333.7461755.png  \n",
            "  inflating: hand/hand_1702116334.3377824.png  \n",
            "  inflating: hand/hand_1702116334.6417332.png  \n",
            "  inflating: hand/hand_1702116334.9509335.png  \n",
            "  inflating: hand/hand_1702116335.25932.png  \n",
            "  inflating: hand/hand_1702116335.5732186.png  \n",
            "  inflating: hand/hand_1702116335.8813334.png  \n",
            "  inflating: hand/hand_1702116336.196745.png  \n",
            "  inflating: hand/hand_1702116338.4131052.png  \n",
            "  inflating: hand/hand_1702116338.9018273.png  \n",
            "  inflating: hand/hand_1702116339.476773.png  \n",
            "  inflating: hand/hand_1702116339.7845948.png  \n",
            "  inflating: hand/hand_1702116340.116766.png  \n",
            "  inflating: hand/hand_1702116340.7176027.png  \n",
            "  inflating: hand/hand_1702116341.3024688.png  \n",
            "  inflating: hand/hand_1702116341.6216094.png  \n",
            "  inflating: hand/hand_1702116342.1129825.png  \n",
            "  inflating: hand/hand_1702116342.4226038.png  \n",
            "  inflating: hand/hand_1702116342.750689.png  \n",
            "  inflating: hand/hand_1702116343.2444577.png  \n",
            "  inflating: hand/hand_1702116343.5447915.png  \n",
            "  inflating: hand/hand_1702116343.8645985.png  \n",
            "  inflating: hand/hand_1702116344.1708474.png  \n",
            "  inflating: hand/hand_1702116344.4789882.png  \n",
            "  inflating: hand/hand_1702116344.8051095.png  \n",
            "  inflating: hand/hand_1702116345.121337.png  \n",
            "  inflating: hand/hand_1702116345.4353638.png  \n",
            "  inflating: hand/hand_1702116345.7518854.png  \n",
            "  inflating: hand/hand_1702116346.0635786.png  \n",
            "  inflating: hand/hand_1702116358.8938508.png  \n",
            "  inflating: hand/hand_1702116359.5775225.png  \n",
            "  inflating: hand/hand_1702116360.0808492.png  \n",
            "  inflating: hand/hand_1702116360.3993738.png  \n",
            "  inflating: hand/hand_1702116360.7152872.png  \n",
            "  inflating: hand/hand_1702116361.4833803.png  \n",
            "  inflating: hand/hand_1702116361.8027081.png  \n",
            "  inflating: hand/hand_1702116362.1394453.png  \n",
            "  inflating: hand/hand_1702116362.4509704.png  \n",
            "  inflating: hand/hand_1702116362.7607534.png  \n",
            "  inflating: hand/hand_1702116363.5652556.png  \n",
            "  inflating: hand/hand_1702116364.151563.png  \n",
            "  inflating: hand/hand_1702116364.7637875.png  \n",
            "  inflating: hand/hand_1702116365.3480542.png  \n",
            "  inflating: hand/hand_1702116365.925114.png  \n",
            "  inflating: hand/hand_1702116366.2381027.png  \n",
            "  inflating: hand/hand_1702116366.646375.png  \n",
            "  inflating: hand/hand_1702116367.2698958.png  \n",
            "  inflating: hand/hand_1702116367.5746624.png  \n",
            "  inflating: hand/hand_1702116368.108944.png  \n",
            "  inflating: hand/hand_1702116368.4195418.png  \n",
            "  inflating: hand/hand_1702116368.7306788.png  \n",
            "  inflating: hand/hand_1702116369.0486155.png  \n",
            "  inflating: hand/hand_1702116369.3590486.png  \n",
            "  inflating: hand/hand_1702116369.6682026.png  \n",
            "  inflating: hand/hand_1702116369.983715.png  \n",
            "  inflating: hand/hand_1702116370.287766.png  \n",
            "  inflating: hand/hand_1702116370.6050177.png  \n",
            "  inflating: hand/hand_1702116370.9205914.png  \n",
            "  inflating: hand/hand_1702116371.2424045.png  \n",
            "  inflating: hand/hand_1702116371.552454.png  \n",
            "  inflating: hand/hand_1702116372.1675122.png  \n",
            "  inflating: hand/hand_1702116373.1217053.png  \n",
            "  inflating: hand/hand_1702116373.7088406.png  \n",
            "  inflating: hand/hand_1702116374.0185728.png  \n",
            "  inflating: hand/hand_1702116374.3372414.png  \n",
            "  inflating: hand/hand_1702116374.6414123.png  \n",
            "  inflating: hand/hand_1702116374.9527802.png  \n",
            "  inflating: hand/hand_1702116375.5585523.png  \n",
            "  inflating: hand/hand_1702116376.039628.png  \n",
            "  inflating: hand/hand_1702116376.828903.png  \n",
            "  inflating: hand/hand_1702116377.13364.png  \n",
            "  inflating: hand/hand_1702116377.4459896.png  \n",
            "  inflating: hand/hand_1702116380.1476161.png  \n",
            "  inflating: hand/hand_1702116380.4564416.png  \n",
            "  inflating: hand/hand_1702116380.852346.png  \n",
            "  inflating: hand/hand_1702116381.1558695.png  \n",
            "  inflating: hand/hand_1702116381.4788458.png  \n",
            "  inflating: hand/hand_1702116384.3769019.png  \n",
            "  inflating: hand/hand_1702116384.6824229.png  \n",
            "  inflating: hand/hand_1702116409.8264852.png  \n",
            "  inflating: hand/hand_1702116410.6349761.png  \n",
            "  inflating: hand/hand_1702116410.9588518.png  \n",
            "  inflating: hand/hand_1702116411.2860754.png  \n",
            "  inflating: hand/hand_1702116416.0550556.png  \n",
            "  inflating: hand/hand_1702116416.3676617.png  \n",
            "  inflating: hand/hand_1702116416.7724044.png  \n",
            "  inflating: hand/hand_1702116417.758833.png  \n",
            "  inflating: hand/hand_1702116418.3905098.png  \n",
            "  inflating: hand/hand_1702116418.716118.png  \n",
            "  inflating: hand/hand_1702116419.0393085.png  \n",
            "  inflating: hand/hand_1702116419.465829.png  \n",
            "  inflating: hand/hand_1702116420.5564606.png  \n",
            "  inflating: hand/hand_1702116420.866389.png  \n",
            "  inflating: hand/hand_1702116421.1887221.png  \n",
            "  inflating: hand/hand_1702116421.5056164.png  \n",
            "  inflating: hand/hand_1702116421.8124144.png  \n",
            "  inflating: hand/hand_1702116422.1295757.png  \n",
            "  inflating: hand/hand_1702116422.4387233.png  \n",
            "  inflating: hand/hand_1702116422.7476382.png  \n",
            "  inflating: hand/hand_1702116423.0642083.png  \n",
            "  inflating: hand/hand_1702116423.3795998.png  \n",
            "  inflating: hand/hand_1702116423.6904135.png  \n",
            "  inflating: hand/hand_1702116424.004313.png  \n",
            "  inflating: hand/hand_1702116424.3154955.png  \n",
            "  inflating: hand/hand_1702116424.6231306.png  \n",
            "  inflating: hand/hand_1702116424.939953.png  \n",
            "  inflating: hand/hand_1702116425.3368516.png  \n",
            "  inflating: hand/hand_1702116427.1056538.png  \n",
            "  inflating: hand/hand_1702116427.4135046.png  \n",
            "  inflating: hand/hand_1702116427.9593837.png  \n",
            "  inflating: hand/hand_1702116428.568752.png  \n",
            "  inflating: hand/hand_1702116429.1625116.png  \n",
            "  inflating: hand/hand_1702116429.4828503.png  \n",
            "  inflating: hand/hand_1702116429.7925014.png  \n",
            "  inflating: hand/hand_1702116430.105043.png  \n",
            "  inflating: hand/hand_1702116430.4133222.png  \n",
            "  inflating: hand/hand_1702116430.7267854.png  \n",
            "  inflating: hand/hand_1702116431.0311055.png  \n",
            "  inflating: hand/hand_1702116431.3483837.png  \n",
            "  inflating: hand/hand_1702116431.6597335.png  \n",
            "  inflating: hand/hand_1702116431.9712565.png  \n",
            "  inflating: hand/hand_1702116432.286642.png  \n",
            "  inflating: hand/hand_1702116432.5991292.png  \n",
            "  inflating: hand/hand_1702116432.9174821.png  \n",
            "  inflating: hand/hand_1702116433.221748.png  \n",
            "  inflating: hand/hand_1702116433.5424502.png  \n",
            "  inflating: hand/hand_1702116433.855282.png  \n",
            "  inflating: hand/hand_1702116434.1750083.png  \n",
            "  inflating: hand/hand_1702116434.482388.png  \n",
            "  inflating: hand/hand_1702116440.717549.png  \n",
            "  inflating: hand/hand_1702116441.0703309.png  \n",
            "  inflating: hand/hand_1702116441.3866923.png  \n",
            "  inflating: hand/hand_1702116441.7105134.png  \n",
            "  inflating: hand/hand_1702116442.0261629.png  \n",
            "  inflating: hand/hand_1702116442.3334453.png  \n",
            "  inflating: hand/hand_1702116442.642521.png  \n",
            "  inflating: hand/hand_1702116442.9500408.png  \n",
            "  inflating: hand/hand_1702116443.2638125.png  \n",
            "  inflating: hand/hand_1702116443.9853907.png  \n",
            "  inflating: hand/hand_1702116444.305356.png  \n",
            "  inflating: hand/hand_1702116445.016614.png  \n",
            "  inflating: hand/hand_1702116447.1799698.png  \n",
            "  inflating: hand/hand_1702116447.4894824.png  \n",
            "  inflating: hand/hand_1702116448.1964412.png  \n",
            "  inflating: hand/hand_1702116450.316541.png  \n",
            "  inflating: hand/hand_1702116450.9040878.png  \n",
            "  inflating: hand/hand_1702116451.2284577.png  \n",
            "  inflating: hand/hand_1702116451.534808.png  \n",
            "  inflating: hand/hand_1702116452.409473.png  \n",
            "  inflating: hand/hand_1702116452.725781.png  \n",
            "  inflating: hand/hand_1702116453.214274.png  \n",
            "  inflating: hand/hand_1702116453.9084742.png  \n",
            "  inflating: hand/hand_1702116457.5816562.png  \n",
            "  inflating: hand/hand_1702116458.1953013.png  \n",
            "  inflating: hand/hand_1702116458.5087345.png  \n",
            "  inflating: hand/hand_1702116460.7428348.png  \n",
            "  inflating: hand/hand_1702116461.0567174.png  \n",
            "  inflating: hand/hand_1702116463.7222536.png  \n",
            "  inflating: hand/hand_1702116464.0285518.png  \n",
            "  inflating: hand/hand_1702116464.520337.png  \n",
            "  inflating: hand/hand_1702116470.3373928.png  \n",
            "  inflating: hand/hand_1702116470.6395478.png  \n",
            "  inflating: hand/hand_1702116471.0455823.png  \n",
            "  inflating: hand/hand_1702116471.5368476.png  \n",
            "  inflating: hand/hand_1702116471.8455536.png  \n",
            "  inflating: hand/hand_1702116472.6658022.png  \n",
            "  inflating: hand/hand_1702116473.3911598.png  \n",
            "  inflating: hand/hand_1702116473.7054517.png  \n",
            "  inflating: hand/hand_1702116474.0169845.png  \n",
            "  inflating: hand/hand_1702116474.3263094.png  \n",
            "  inflating: hand/hand_1702116474.6365461.png  \n",
            "  inflating: hand/hand_1702116474.9459445.png  \n",
            "  inflating: hand/hand_1702116475.260316.png  \n",
            "  inflating: hand/hand_1702116475.5725152.png  \n",
            "  inflating: hand/hand_1702116475.8892138.png  \n",
            "  inflating: hand/hand_1702116476.1900003.png  \n",
            "  inflating: hand/hand_1702116476.5327437.png  \n",
            "  inflating: hand/hand_1702116476.8541493.png  \n",
            "  inflating: hand/hand_1702116477.170344.png  \n",
            "  inflating: hand/hand_1702116501.0082538.png  \n",
            "  inflating: hand/hand_1702116501.3156888.png  \n",
            "  inflating: hand/hand_1702116501.63248.png  \n",
            "  inflating: hand/hand_1702116501.9431539.png  \n",
            "  inflating: hand/hand_1702116502.253792.png  \n",
            "  inflating: hand/hand_1702116502.5727677.png  \n",
            "  inflating: hand/hand_1702116502.887865.png  \n",
            "  inflating: hand/hand_1702116503.3908727.png  \n",
            "  inflating: hand/hand_1702116503.7121959.png  \n",
            "  inflating: hand/hand_1702116504.0215485.png  \n",
            "  inflating: hand/hand_1702116504.501458.png  \n",
            "  inflating: hand/hand_1702116505.1143649.png  \n",
            "  inflating: hand/hand_1702116505.4155345.png  \n",
            "  inflating: hand/hand_1702116514.5738761.png  \n",
            "  inflating: hand/hand_1702116515.2405436.png  \n",
            "  inflating: hand/hand_1702116515.558048.png  \n",
            "  inflating: hand/hand_1702116515.9522765.png  \n",
            "  inflating: hand/hand_1702116519.6314626.png  \n",
            "  inflating: hand/hand_1702116520.4714355.png  \n",
            "  inflating: hand/hand_1702116520.782777.png  \n",
            "  inflating: hand/hand_1702116521.0912585.png  \n",
            "  inflating: hand/hand_1702116521.4194458.png  \n",
            "  inflating: hand/hand_1702116521.7373111.png  \n",
            "  inflating: hand/hand_1702116522.0709195.png  \n",
            "  inflating: hand/hand_1702116522.392433.png  \n",
            "  inflating: hand/hand_1702116522.7075305.png  \n",
            "  inflating: hand/hand_1702116523.410037.png  \n",
            "  inflating: hand/hand_1702116523.725282.png  \n",
            "  inflating: hand/hand_1702116525.0797546.png  \n",
            "  inflating: hand/hand_1702116525.3985841.png  \n",
            "  inflating: hand/hand_1702116525.708562.png  \n",
            "  inflating: hand/hand_1702116526.0269117.png  \n",
            "  inflating: hand/hand_1702116526.803641.png  \n",
            "  inflating: hand/hand_1702116527.6394587.png  \n",
            "  inflating: hand/hand_1702116527.9585938.png  \n",
            "  inflating: hand/hand_1702116528.4665227.png  \n",
            "  inflating: hand/hand_1702116528.779176.png  \n",
            "  inflating: hand/hand_1702116529.0987935.png  \n",
            "  inflating: hand/hand_1702116529.4063458.png  \n",
            "  inflating: hand/hand_1702116529.717491.png  \n",
            "  inflating: hand/hand_1702116530.036201.png  \n",
            "  inflating: hand/hand_1702116530.6096363.png  \n",
            "  inflating: hand/hand_1702116540.896382.png  \n",
            "  inflating: hand/hand_1702116541.6004822.png  \n",
            "  inflating: hand/hand_1702116541.9056976.png  \n",
            "  inflating: hand/hand_1702116543.0988123.png  \n",
            "  inflating: hand/hand_1702116543.4005363.png  \n",
            "  inflating: hand/hand_1702116550.6840425.png  \n",
            "  inflating: hand/hand_1702116550.9944568.png  \n",
            "  inflating: hand/hand_1702116551.5085552.png  \n",
            "  inflating: hand/hand_1702116571.0058806.png  \n",
            "  inflating: hand/hand_1702116571.3229227.png  \n",
            "  inflating: hand/hand_1702116572.0349233.png  \n",
            "  inflating: hand/hand_1702116572.3398583.png  \n",
            "  inflating: hand/hand_1702116574.612354.png  \n",
            "  inflating: hand/hand_1702116574.9293897.png  \n",
            "  inflating: hand/hand_1702116575.3732207.png  \n",
            "  inflating: hand/hand_1702116575.6872504.png  \n",
            "  inflating: hand/hand_1702116580.1329887.png  \n",
            "  inflating: hand/hand_1702116580.4622335.png  \n",
            "  inflating: hand/hand_1702116581.1533816.png  \n",
            "  inflating: hand/hand_1702116582.3436787.png  \n",
            "  inflating: hand/hand_1702116582.6576478.png  \n",
            "  inflating: hand/hand_1702116583.613685.png  \n",
            "  inflating: hand/hand_1702116583.9262881.png  \n",
            "  inflating: hand/hand_1702116584.2446322.png  \n",
            "  inflating: hand/hand_1702116584.5464146.png  \n",
            "  inflating: hand/hand_1702116584.860432.png  \n",
            "  inflating: hand/hand_1702116585.4365916.png  \n",
            "  inflating: hand/hand_1702116585.7501526.png  \n",
            "  inflating: hand/hand_1702116586.2452033.png  \n",
            "  inflating: hand/hand_1702116586.5509636.png  \n",
            "  inflating: hand/hand_1702116586.8573344.png  \n",
            "  inflating: hand/hand_1702116587.1737628.png  \n",
            "  inflating: hand/hand_1702116587.4883735.png  \n",
            "  inflating: hand/hand_1702116587.7979019.png  \n",
            "  inflating: hand/hand_1702116588.3941092.png  \n",
            "  inflating: hand/hand_1702116589.0929337.png  \n",
            "  inflating: hand/hand_1702116589.4129503.png  \n",
            "  inflating: hand/hand_1702116590.4174185.png  \n",
            "  inflating: hand/hand_1702116590.7209961.png  \n",
            "  inflating: hand/hand_1702116592.056007.png  \n",
            "  inflating: hand/hand_1702116592.3704486.png  \n",
            "  inflating: hand/hand_1702116593.1659825.png  \n",
            "  inflating: hand/hand_1702116593.8441994.png  \n",
            "  inflating: hand/hand_1702116594.5185041.png  \n",
            "  inflating: hand/hand_1702116595.1020968.png  \n",
            "  inflating: hand/hand_1702116595.6825778.png  \n",
            "  inflating: hand/hand_1702116596.0052905.png  \n",
            "  inflating: hand/hand_1702116596.497196.png  \n",
            "  inflating: hand/hand_1702116596.8060777.png  \n",
            "  inflating: hand/hand_1702116598.5085962.png  \n",
            "  inflating: hand/hand_1702116598.8222406.png  \n",
            "  inflating: hand/hand_1702116599.2201812.png  \n",
            "  inflating: hand/hand_1702116599.5405483.png  \n",
            "  inflating: hand/hand_1702116600.039472.png  \n",
            "  inflating: hand/hand_1702116600.3461301.png  \n",
            "  inflating: hand/hand_1702116600.6583815.png  \n",
            "  inflating: hand/hand_1702116600.974934.png  \n",
            "  inflating: hand/hand_1702116601.280952.png  \n",
            "  inflating: hand/hand_1702116643.9153843.png  \n",
            "  inflating: hand/hand_1702116644.5040596.png  \n",
            "  inflating: hand/hand_1702116644.8085663.png  \n",
            "  inflating: hand/hand_1702116646.3514707.png  \n",
            "  inflating: hand/hand_1702116646.658442.png  \n",
            "  inflating: hand/hand_1702116646.9675374.png  \n",
            "  inflating: hand/hand_1702116647.297066.png  \n",
            "  inflating: hand/hand_1702116647.615969.png  \n",
            "  inflating: hand/hand_1702116647.933619.png  \n",
            "  inflating: hand/hand_1702116648.2414658.png  \n",
            "  inflating: hand/hand_1702116648.5552523.png  \n",
            "  inflating: hand/hand_1702116648.8628063.png  \n",
            "  inflating: hand/hand_1702116649.1732945.png  \n",
            "  inflating: hand/hand_1702116649.4923139.png  \n",
            "  inflating: hand/hand_1702116649.7950723.png  \n",
            "  inflating: hand/hand_1702116650.117483.png  \n",
            "  inflating: hand/hand_1702116650.4273496.png  \n",
            "  inflating: hand/hand_1702116650.7421482.png  \n",
            "  inflating: hand/hand_1702116651.0448883.png  \n",
            "  inflating: hand/hand_1702116651.3604524.png  \n",
            "  inflating: hand/hand_1702116651.6683536.png  \n",
            "  inflating: hand/hand_1702116651.980281.png  \n",
            "  inflating: hand/hand_1702116652.2924154.png  \n",
            "  inflating: hand/hand_1702116652.6081913.png  \n",
            "  inflating: hand/hand_1702116653.1840396.png  \n",
            "  inflating: hand/hand_1702116653.7562358.png  \n",
            "  inflating: hand/hand_1702116654.0775874.png  \n",
            "  inflating: hand/hand_1702116654.3857539.png  \n",
            "  inflating: hand/hand_1702116654.6968982.png  \n",
            "  inflating: hand/hand_1702116655.0092726.png  \n",
            "  inflating: hand/hand_1702116655.3175824.png  \n",
            "  inflating: hand/hand_1702116655.6231415.png  \n",
            "  inflating: hand/hand_1702116655.934519.png  \n",
            "  inflating: hand/hand_1702116656.5372708.png  \n",
            "  inflating: hand/hand_1702116656.8422477.png  \n",
            "  inflating: hand/hand_1702116659.460553.png  \n",
            "  inflating: hand/hand_1702116660.0428765.png  \n",
            "  inflating: hand/hand_1702116660.3591592.png  \n",
            "  inflating: hand/hand_1702116663.3612108.png  \n",
            "  inflating: hand/hand_1702116663.679287.png  \n",
            "  inflating: hand/hand_1702116664.5504494.png  \n",
            "  inflating: hand/hand_1702116664.867774.png  \n",
            "  inflating: hand/hand_1702116665.5722532.png  \n",
            "  inflating: hand/hand_1702116665.8812892.png  \n",
            "  inflating: hand/hand_1702116666.1856258.png  \n",
            "  inflating: hand/hand_1702116666.4978983.png  \n",
            "  inflating: hand/hand_1702116666.8177595.png  \n",
            "  inflating: hand/hand_1702116667.1227443.png  \n",
            "  inflating: hand/hand_1702116667.63137.png  \n",
            "  inflating: hand/hand_1702116668.2674112.png  \n",
            "  inflating: hand/hand_1702116673.9996538.png  \n",
            "  inflating: hand/hand_1702116674.3733478.png  \n",
            "  inflating: hand/hand_1702116674.6886265.png  \n",
            "  inflating: hand/hand_1702116675.0057733.png  \n",
            "  inflating: hand/hand_1702116675.3088958.png  \n",
            "  inflating: hand/hand_1702116675.6407502.png  \n",
            "  inflating: hand/hand_1702116675.9496024.png  \n",
            "  inflating: hand/hand_1702116676.2542934.png  \n",
            "  inflating: hand/hand_1702116676.5664427.png  \n",
            "  inflating: hand/hand_1702116676.879606.png  \n",
            "  inflating: hand/hand_1702116677.1893237.png  \n",
            "  inflating: hand/hand_1702116677.5083337.png  \n",
            "  inflating: hand/hand_1702116677.817474.png  \n",
            "  inflating: hand/hand_1702116678.1268244.png  \n",
            "  inflating: hand/hand_1702116678.4420063.png  \n",
            "  inflating: hand/hand_1702116679.0481846.png  \n",
            "  inflating: hand/hand_1702116679.3694701.png  \n",
            "  inflating: hand/hand_1702116679.68737.png  \n",
            "  inflating: hand/hand_1702116680.0072234.png  \n",
            "  inflating: hand/hand_1702116680.323214.png  \n",
            "  inflating: hand/hand_1702116680.6549122.png  \n",
            "  inflating: hand/hand_1702116680.9689314.png  \n",
            "  inflating: hand/hand_1702116681.290601.png  \n",
            "  inflating: hand/hand_1702116681.607008.png  \n",
            "  inflating: hand/hand_1702116681.9164026.png  \n",
            "  inflating: hand/hand_1702116682.2342591.png  \n",
            "  inflating: hand/hand_1702116682.5510056.png  \n",
            "  inflating: hand/hand_1702116682.8582628.png  \n",
            "  inflating: hand/hand_1702116683.1740367.png  \n",
            "  inflating: hand/hand_1702116683.485852.png  \n",
            "  inflating: hand/hand_1702116683.799333.png  \n",
            "  inflating: hand/hand_1702116684.1191268.png  \n",
            "  inflating: hand/hand_1702116684.4328604.png  \n",
            "  inflating: hand/hand_1702116684.7476904.png  \n",
            "  inflating: hand/hand_1702116685.05269.png  \n",
            "  inflating: hand/hand_1702116685.3774364.png  \n",
            "  inflating: hand/hand_1702116685.7069783.png  \n",
            "  inflating: hand/hand_1702116686.0196538.png  \n",
            "  inflating: hand/hand_1702116686.3329475.png  \n",
            "  inflating: hand/hand_1702116686.6425254.png  \n",
            "  inflating: hand/hand_1702116686.950737.png  \n",
            "  inflating: hand/hand_1702116687.257652.png  \n",
            "  inflating: hand/hand_1702116687.5771115.png  \n",
            "  inflating: hand/hand_1702116687.899185.png  \n",
            "  inflating: hand/hand_1702116688.2222004.png  \n",
            "  inflating: hand/hand_1702116688.5300932.png  \n",
            "  inflating: hand/hand_1702116688.8464766.png  \n",
            "  inflating: hand/hand_1702116689.1603937.png  \n",
            "  inflating: hand/hand_1702116689.4695578.png  \n",
            "  inflating: hand/hand_1702116689.786471.png  \n",
            "  inflating: hand/hand_1702116725.4261303.png  \n",
            "  inflating: hand/hand_1702116725.739079.png  \n",
            "  inflating: hand/hand_1702116726.060095.png  \n",
            "  inflating: hand/hand_1702116726.3782623.png  \n",
            "  inflating: hand/hand_1702116726.7061107.png  \n",
            "  inflating: hand/hand_1702116727.028644.png  \n",
            "  inflating: hand/hand_1702116727.3507307.png  \n",
            "  inflating: hand/hand_1702116727.674117.png  \n",
            "  inflating: hand/hand_1702116727.983328.png  \n",
            "  inflating: hand/hand_1702116728.3032546.png  \n",
            "  inflating: hand/hand_1702116728.6224463.png  \n",
            "  inflating: hand/hand_1702116728.9544272.png  \n",
            "  inflating: hand/hand_1702116729.284807.png  \n",
            "  inflating: hand/hand_1702116729.6060834.png  \n",
            "  inflating: hand/hand_1702116729.9241111.png  \n",
            "  inflating: hand/hand_1702116730.2332306.png  \n",
            "  inflating: hand/hand_1702116730.5391624.png  \n",
            "  inflating: hand/hand_1702116731.9954715.png  \n",
            "  inflating: hand/hand_1702116732.3095632.png  \n",
            "  inflating: hand/hand_1702116732.6281683.png  \n",
            "  inflating: hand/hand_1702116732.9468892.png  \n",
            "  inflating: hand/hand_1702116733.2554367.png  \n",
            "  inflating: hand/hand_1702116733.572826.png  \n",
            "  inflating: hand/hand_1702116733.8949409.png  \n",
            "  inflating: hand/hand_1702116738.6444142.png  \n",
            "  inflating: hand/hand_1702116738.947.png  \n",
            "  inflating: hand/hand_1702116742.5729485.png  \n",
            "  inflating: hand/hand_1702116742.8839557.png  \n",
            "  inflating: hand/hand_1702116747.6005797.png  \n",
            "  inflating: hand/hand_1702116747.9236164.png  \n",
            "  inflating: hand/hand_1702116748.3228855.png  \n",
            "  inflating: hand/hand_1702116748.648388.png  \n",
            "  inflating: hand/hand_1702116748.9527972.png  \n",
            "  inflating: hand/hand_1702116749.2612183.png  \n",
            "  inflating: hand/hand_1702116749.577996.png  \n",
            "  inflating: hand/hand_1702116749.8833568.png  \n",
            "  inflating: hand/hand_1702116750.2029197.png  \n",
            "  inflating: hand/hand_1702116750.5141351.png  \n",
            "  inflating: hand/hand_1702116750.8288546.png  \n",
            "  inflating: hand/hand_1702116751.1444025.png  \n",
            "  inflating: hand/hand_1702116751.4558177.png  \n",
            "  inflating: hand/hand_1702116753.3979461.png  \n",
            "  inflating: hand/hand_1702116753.7303154.png  \n",
            "  inflating: hand/hand_1702116754.050009.png  \n",
            "  inflating: hand/hand_1702116754.368281.png  \n",
            "  inflating: hand/hand_1702116754.683039.png  \n",
            "  inflating: hand/hand_1702116754.991333.png  \n",
            "  inflating: hand/hand_1702116755.3003771.png  \n",
            "  inflating: hand/hand_1702116755.6153405.png  \n",
            "  inflating: hand/hand_1702116755.9250944.png  \n",
            "  inflating: hand/hand_1702116771.3449757.png  \n",
            "  inflating: hand/hand_1702116771.657473.png  \n",
            "  inflating: hand/hand_1702116771.9719527.png  \n",
            "  inflating: hand/hand_1702116772.2864594.png  \n",
            "  inflating: hand/hand_1702116772.601283.png  \n",
            "  inflating: hand/hand_1702116772.940909.png  \n",
            "  inflating: hand/hand_1702116773.2518876.png  \n",
            "  inflating: hand/hand_1702116773.5639155.png  \n",
            "  inflating: hand/hand_1702116773.8696508.png  \n",
            "  inflating: hand/hand_1702116774.215432.png  \n",
            "  inflating: hand/hand_1702116774.5419574.png  \n",
            "  inflating: hand/hand_1702116774.8511794.png  \n",
            "  inflating: hand/hand_1702116775.1572661.png  \n",
            "  inflating: hand/hand_1702116775.4727864.png  \n",
            "  inflating: hand/hand_1702116777.0820923.png  \n",
            "  inflating: hand/hand_1702116777.3946695.png  \n",
            "  inflating: hand/hand_1702116777.710168.png  \n",
            "  inflating: hand/hand_1702116778.0220213.png  \n",
            "  inflating: hand/hand_1702116778.3500776.png  \n",
            "  inflating: hand/hand_1702116780.1043823.png  \n",
            "  inflating: hand/hand_1702116780.4034135.png  \n",
            "  inflating: hand/hand_1702116780.7285697.png  \n",
            "  inflating: hand/hand_1702116781.049873.png  \n",
            "  inflating: hand/hand_1702116781.3610415.png  \n",
            "  inflating: hand/hand_1702116781.6704214.png  \n",
            "  inflating: hand/hand_1702116781.9748733.png  \n",
            "  inflating: hand/hand_1702116782.279369.png  \n",
            "  inflating: hand/hand_1702116782.598889.png  \n",
            "  inflating: hand/hand_1702116782.9184737.png  \n",
            "  inflating: hand/hand_1702116783.2279565.png  \n",
            "  inflating: hand/hand_1702116783.5421054.png  \n",
            "  inflating: hand/hand_1702116783.8574622.png  \n",
            "  inflating: hand/hand_1702116784.1829445.png  \n",
            "  inflating: hand/hand_1702116784.4925122.png  \n",
            "  inflating: hand/hand_1702116784.8071973.png  \n",
            "  inflating: hand/hand_1702116785.1222675.png  \n",
            "  inflating: hand/hand_1702116785.442408.png  \n",
            "  inflating: hand/hand_1702116785.752054.png  \n",
            "  inflating: hand/hand_1702116786.0682921.png  \n",
            "  inflating: hand/hand_1702116786.3798094.png  \n",
            "  inflating: hand/hand_1702116786.6896756.png  \n",
            "  inflating: hand/hand_1702116787.0000265.png  \n",
            "  inflating: hand/hand_1702116787.308421.png  \n",
            "  inflating: hand/hand_1702116787.6240206.png  \n",
            "  inflating: hand/hand_1702116787.9375052.png  \n",
            "  inflating: hand/hand_1702116796.6623778.png  \n",
            "  inflating: hand/hand_1702116796.974065.png  \n",
            "  inflating: hand/hand_1702116797.29006.png  \n",
            "  inflating: hand/hand_1702116797.5961118.png  \n",
            "  inflating: hand/hand_1702116797.9155636.png  \n",
            "  inflating: hand/hand_1702116842.1071792.png  \n",
            "  inflating: hand/hand_1702116842.4280057.png  \n",
            "  inflating: hand/hand_1702116842.741746.png  \n",
            "  inflating: hand/hand_1702116843.0585384.png  \n",
            "  inflating: hand/hand_1702116843.379756.png  \n",
            "  inflating: hand/hand_1702116843.7108374.png  \n",
            "  inflating: hand/hand_1702116844.0317678.png  \n",
            "  inflating: hand/hand_1702116844.3525498.png  \n",
            "  inflating: hand/hand_1702116844.6726098.png  \n",
            "  inflating: hand/hand_1702116844.9968014.png  \n",
            "  inflating: hand/hand_1702116845.3010752.png  \n",
            "  inflating: hand/hand_1702116845.6159213.png  \n",
            "  inflating: hand/hand_1702116845.9322994.png  \n",
            "  inflating: hand/hand_1702116846.2342732.png  \n",
            "  inflating: hand/hand_1702116846.5453186.png  \n",
            "  inflating: hand/hand_1702116846.8572164.png  \n",
            "  inflating: hand/hand_1702116847.1627545.png  \n",
            "  inflating: hand/hand_1702116847.5021434.png  \n",
            "  inflating: hand/hand_1702116847.823253.png  \n",
            "  inflating: hand/hand_1702116848.1319761.png  \n",
            "  inflating: hand/hand_1702116848.4427981.png  \n",
            "  inflating: hand/hand_1702116848.7593586.png  \n",
            "  inflating: hand/hand_1702116849.0649042.png  \n",
            "  inflating: hand/hand_1702116849.379273.png  \n",
            "  inflating: hand/hand_1702116849.700195.png  \n",
            "  inflating: hand/hand_1702116850.0202188.png  \n",
            "  inflating: hand/hand_1702116850.3328469.png  \n",
            "  inflating: hand/hand_1702116850.6482096.png  \n",
            "  inflating: hand/hand_1702116850.9791.png  \n",
            "  inflating: hand/hand_1702116851.2951427.png  \n",
            "  inflating: hand/hand_1702116851.6030946.png  \n",
            "  inflating: hand/hand_1702116851.9193494.png  \n",
            "  inflating: hand/hand_1702116852.2358549.png  \n",
            "  inflating: hand/hand_1702116852.5657885.png  \n",
            "  inflating: hand/hand_1702116852.882337.png  \n",
            "  inflating: hand/hand_1702116853.1998985.png  \n",
            "  inflating: hand/hand_1702116853.526715.png  \n",
            "  inflating: hand/hand_1702116853.8641186.png  \n",
            "  inflating: hand/hand_1702116854.1781213.png  \n",
            "  inflating: hand/hand_1702116854.5202286.png  \n",
            "  inflating: hand/hand_1702116854.8395154.png  \n",
            "  inflating: hand/hand_1702116855.1519225.png  \n",
            "  inflating: hand/hand_1702116855.4693656.png  \n",
            "  inflating: hand/hand_1702116855.7800405.png  \n",
            "  inflating: hand/hand_1702116856.1001108.png  \n",
            "  inflating: hand/hand_1702116856.4095232.png  \n",
            "  inflating: hand/hand_1702116856.7998385.png  \n",
            "  inflating: hand/hand_1702116857.1088345.png  \n",
            "  inflating: hand/hand_1702116857.4170756.png  \n",
            "  inflating: hand/hand_1702116857.749793.png  \n",
            "  inflating: hand/hand_1702116868.940771.png  \n",
            "  inflating: hand/hand_1702116869.2669668.png  \n",
            "  inflating: hand/hand_1702116869.5810986.png  \n",
            "  inflating: hand/hand_1702116869.8869205.png  \n",
            "  inflating: hand/hand_1702116870.1938741.png  \n",
            "  inflating: hand/hand_1702116870.5039284.png  \n",
            "  inflating: hand/hand_1702116870.817909.png  \n",
            "  inflating: hand/hand_1702116871.13309.png  \n",
            "  inflating: hand/hand_1702116871.443823.png  \n",
            "  inflating: hand/hand_1702116871.7599068.png  \n",
            "  inflating: hand/hand_1702116872.0810087.png  \n",
            "  inflating: hand/hand_1702116872.3844476.png  \n",
            "  inflating: hand/hand_1702116872.704886.png  \n",
            "  inflating: hand/hand_1702116873.012082.png  \n",
            "  inflating: hand/hand_1702116873.3244364.png  \n",
            "  inflating: hand/hand_1702116873.633466.png  \n",
            "  inflating: hand/hand_1702116873.9457686.png  \n",
            "  inflating: hand/hand_1702116874.2568405.png  \n",
            "  inflating: hand/hand_1702116874.5839477.png  \n",
            "  inflating: hand/hand_1702116874.908065.png  \n",
            "  inflating: hand/hand_1702116875.214849.png  \n",
            "  inflating: hand/hand_1702116875.5253832.png  \n",
            "  inflating: hand/hand_1702116875.8380601.png  \n",
            "  inflating: hand/hand_1702116876.1546228.png  \n",
            "  inflating: hand/hand_1702116876.4772696.png  \n",
            "  inflating: hand/hand_1702116876.7940607.png  \n",
            "  inflating: hand/hand_1702116877.1190944.png  \n",
            "  inflating: hand/hand_1702116877.4296374.png  \n",
            "  inflating: hand/hand_1702116877.7371645.png  \n",
            "  inflating: hand/hand_1702116878.0507834.png  \n",
            "  inflating: hand/hand_1702116878.3570602.png  \n",
            "  inflating: hand/hand_1702116878.6738307.png  \n",
            "  inflating: hand/hand_1702116878.9920712.png  \n",
            "  inflating: hand/hand_1702116879.3020918.png  \n",
            "  inflating: hand/hand_1702116879.6069367.png  \n",
            "  inflating: hand/hand_1702116879.939285.png  \n",
            "  inflating: hand/hand_1702116880.257767.png  \n",
            "  inflating: hand/hand_1702116880.5703473.png  \n",
            "  inflating: hand/hand_1702116880.8910024.png  \n",
            "  inflating: hand/hand_1702116881.2023118.png  \n",
            "  inflating: hand/hand_1702116881.506692.png  \n",
            "  inflating: hand/hand_1702116881.825467.png  \n",
            "  inflating: hand/hand_1702116882.140696.png  \n",
            "  inflating: hand/hand_1702116882.4501977.png  \n",
            "  inflating: hand/hand_1702116882.7624822.png  \n",
            "  inflating: hand/hand_1702116883.092465.png  \n",
            "  inflating: hand/hand_1702116883.408454.png  \n",
            "  inflating: hand/hand_1702116883.7217112.png  \n",
            "  inflating: hand/hand_1702116884.040385.png  \n",
            "  inflating: hand/hand_1702116884.3508003.png  \n"
          ]
        }
      ]
    },
    {
      "cell_type": "code",
      "source": [
        "!pip install ultralytics"
      ],
      "metadata": {
        "colab": {
          "base_uri": "https://localhost:8080/"
        },
        "id": "el685DfVOzd2",
        "outputId": "eb67c36a-6501-4f87-b6ed-3a966877e8e4"
      },
      "execution_count": null,
      "outputs": [
        {
          "output_type": "stream",
          "name": "stdout",
          "text": [
            "Requirement already satisfied: ultralytics in /usr/local/lib/python3.10/dist-packages (8.0.229)\n",
            "Requirement already satisfied: matplotlib>=3.3.0 in /usr/local/lib/python3.10/dist-packages (from ultralytics) (3.7.1)\n",
            "Requirement already satisfied: numpy>=1.22.2 in /usr/local/lib/python3.10/dist-packages (from ultralytics) (1.23.5)\n",
            "Requirement already satisfied: opencv-python>=4.6.0 in /usr/local/lib/python3.10/dist-packages (from ultralytics) (4.8.0.76)\n",
            "Requirement already satisfied: pillow>=7.1.2 in /usr/local/lib/python3.10/dist-packages (from ultralytics) (9.4.0)\n",
            "Requirement already satisfied: pyyaml>=5.3.1 in /usr/local/lib/python3.10/dist-packages (from ultralytics) (6.0.1)\n",
            "Requirement already satisfied: requests>=2.23.0 in /usr/local/lib/python3.10/dist-packages (from ultralytics) (2.31.0)\n",
            "Requirement already satisfied: scipy>=1.4.1 in /usr/local/lib/python3.10/dist-packages (from ultralytics) (1.11.4)\n",
            "Requirement already satisfied: torch>=1.8.0 in /usr/local/lib/python3.10/dist-packages (from ultralytics) (2.1.0+cu121)\n",
            "Requirement already satisfied: torchvision>=0.9.0 in /usr/local/lib/python3.10/dist-packages (from ultralytics) (0.16.0+cu121)\n",
            "Requirement already satisfied: tqdm>=4.64.0 in /usr/local/lib/python3.10/dist-packages (from ultralytics) (4.66.1)\n",
            "Requirement already satisfied: pandas>=1.1.4 in /usr/local/lib/python3.10/dist-packages (from ultralytics) (1.5.3)\n",
            "Requirement already satisfied: seaborn>=0.11.0 in /usr/local/lib/python3.10/dist-packages (from ultralytics) (0.12.2)\n",
            "Requirement already satisfied: psutil in /usr/local/lib/python3.10/dist-packages (from ultralytics) (5.9.5)\n",
            "Requirement already satisfied: py-cpuinfo in /usr/local/lib/python3.10/dist-packages (from ultralytics) (9.0.0)\n",
            "Requirement already satisfied: thop>=0.1.1 in /usr/local/lib/python3.10/dist-packages (from ultralytics) (0.1.1.post2209072238)\n",
            "Requirement already satisfied: contourpy>=1.0.1 in /usr/local/lib/python3.10/dist-packages (from matplotlib>=3.3.0->ultralytics) (1.2.0)\n",
            "Requirement already satisfied: cycler>=0.10 in /usr/local/lib/python3.10/dist-packages (from matplotlib>=3.3.0->ultralytics) (0.12.1)\n",
            "Requirement already satisfied: fonttools>=4.22.0 in /usr/local/lib/python3.10/dist-packages (from matplotlib>=3.3.0->ultralytics) (4.46.0)\n",
            "Requirement already satisfied: kiwisolver>=1.0.1 in /usr/local/lib/python3.10/dist-packages (from matplotlib>=3.3.0->ultralytics) (1.4.5)\n",
            "Requirement already satisfied: packaging>=20.0 in /usr/local/lib/python3.10/dist-packages (from matplotlib>=3.3.0->ultralytics) (23.2)\n",
            "Requirement already satisfied: pyparsing>=2.3.1 in /usr/local/lib/python3.10/dist-packages (from matplotlib>=3.3.0->ultralytics) (3.1.1)\n",
            "Requirement already satisfied: python-dateutil>=2.7 in /usr/local/lib/python3.10/dist-packages (from matplotlib>=3.3.0->ultralytics) (2.8.2)\n",
            "Requirement already satisfied: pytz>=2020.1 in /usr/local/lib/python3.10/dist-packages (from pandas>=1.1.4->ultralytics) (2023.3.post1)\n",
            "Requirement already satisfied: charset-normalizer<4,>=2 in /usr/local/lib/python3.10/dist-packages (from requests>=2.23.0->ultralytics) (3.3.2)\n",
            "Requirement already satisfied: idna<4,>=2.5 in /usr/local/lib/python3.10/dist-packages (from requests>=2.23.0->ultralytics) (3.6)\n",
            "Requirement already satisfied: urllib3<3,>=1.21.1 in /usr/local/lib/python3.10/dist-packages (from requests>=2.23.0->ultralytics) (2.0.7)\n",
            "Requirement already satisfied: certifi>=2017.4.17 in /usr/local/lib/python3.10/dist-packages (from requests>=2.23.0->ultralytics) (2023.11.17)\n",
            "Requirement already satisfied: filelock in /usr/local/lib/python3.10/dist-packages (from torch>=1.8.0->ultralytics) (3.13.1)\n",
            "Requirement already satisfied: typing-extensions in /usr/local/lib/python3.10/dist-packages (from torch>=1.8.0->ultralytics) (4.5.0)\n",
            "Requirement already satisfied: sympy in /usr/local/lib/python3.10/dist-packages (from torch>=1.8.0->ultralytics) (1.12)\n",
            "Requirement already satisfied: networkx in /usr/local/lib/python3.10/dist-packages (from torch>=1.8.0->ultralytics) (3.2.1)\n",
            "Requirement already satisfied: jinja2 in /usr/local/lib/python3.10/dist-packages (from torch>=1.8.0->ultralytics) (3.1.2)\n",
            "Requirement already satisfied: fsspec in /usr/local/lib/python3.10/dist-packages (from torch>=1.8.0->ultralytics) (2023.6.0)\n",
            "Requirement already satisfied: triton==2.1.0 in /usr/local/lib/python3.10/dist-packages (from torch>=1.8.0->ultralytics) (2.1.0)\n",
            "Requirement already satisfied: six>=1.5 in /usr/local/lib/python3.10/dist-packages (from python-dateutil>=2.7->matplotlib>=3.3.0->ultralytics) (1.16.0)\n",
            "Requirement already satisfied: MarkupSafe>=2.0 in /usr/local/lib/python3.10/dist-packages (from jinja2->torch>=1.8.0->ultralytics) (2.1.3)\n",
            "Requirement already satisfied: mpmath>=0.19 in /usr/local/lib/python3.10/dist-packages (from sympy->torch>=1.8.0->ultralytics) (1.3.0)\n"
          ]
        }
      ]
    },
    {
      "cell_type": "code",
      "source": [
        "%cd /content/drive/MyDrive/yolov8\n",
        "!echo 'train: /content/drive/MyDrive/yolov8/data/train/images' >> data/data.yaml\n",
        "!echo 'val: /content/drive/MyDrive/yolov8/data/valid/images' >> data/data.yaml\n",
        "!echo 'nc: 1' >> data/data.yaml\n",
        "!echo 'names: ['hand']' >> data/data.yaml"
      ],
      "metadata": {
        "colab": {
          "base_uri": "https://localhost:8080/"
        },
        "id": "gDKMA9KiU1LE",
        "outputId": "05842fe1-407e-488d-f9ee-a56f0fa05f4c"
      },
      "execution_count": null,
      "outputs": [
        {
          "output_type": "stream",
          "name": "stdout",
          "text": [
            "/content/drive/MyDrive/yolov8\n"
          ]
        }
      ]
    },
    {
      "cell_type": "code",
      "source": [
        "%cd /content/drive/MyDrive/yolov8\n",
        "from ultralytics import YOLO\n",
        "model = YOLO('yolov8m.pt')\n",
        "results = model.train(data='data/data.yaml', epochs=100)"
      ],
      "metadata": {
        "colab": {
          "base_uri": "https://localhost:8080/"
        },
        "id": "C5jVLKF7O4rZ",
        "outputId": "fb088335-7ccd-41da-d9d3-f31c4d9683d8"
      },
      "execution_count": null,
      "outputs": [
        {
          "output_type": "stream",
          "name": "stdout",
          "text": [
            "/content/drive/MyDrive/yolov8\n",
            "Ultralytics YOLOv8.0.229 🚀 Python-3.10.12 torch-2.1.0+cu121 CUDA:0 (Tesla T4, 15102MiB)\n",
            "\u001b[34m\u001b[1mengine/trainer: \u001b[0mtask=detect, mode=train, model=yolov8m.pt, data=data/data.yaml, epochs=100, time=None, patience=50, batch=16, imgsz=640, save=True, save_period=-1, cache=False, device=None, workers=8, project=None, name=train11, exist_ok=False, pretrained=True, optimizer=auto, verbose=True, seed=0, deterministic=True, single_cls=False, rect=False, cos_lr=False, close_mosaic=10, resume=False, amp=True, fraction=1.0, profile=False, freeze=None, overlap_mask=True, mask_ratio=4, dropout=0.0, val=True, split=val, save_json=False, save_hybrid=False, conf=None, iou=0.7, max_det=300, half=False, dnn=False, plots=True, source=None, vid_stride=1, stream_buffer=False, visualize=False, augment=False, agnostic_nms=False, classes=None, retina_masks=False, embed=None, show=False, save_frames=False, save_txt=False, save_conf=False, save_crop=False, show_labels=True, show_conf=True, show_boxes=True, line_width=None, format=torchscript, keras=False, optimize=False, int8=False, dynamic=False, simplify=False, opset=None, workspace=4, nms=False, lr0=0.01, lrf=0.01, momentum=0.937, weight_decay=0.0005, warmup_epochs=3.0, warmup_momentum=0.8, warmup_bias_lr=0.1, box=7.5, cls=0.5, dfl=1.5, pose=12.0, kobj=1.0, label_smoothing=0.0, nbs=64, hsv_h=0.015, hsv_s=0.7, hsv_v=0.4, degrees=0.0, translate=0.1, scale=0.5, shear=0.0, perspective=0.0, flipud=0.0, fliplr=0.5, mosaic=1.0, mixup=0.0, copy_paste=0.0, cfg=None, tracker=botsort.yaml, save_dir=runs/detect/train11\n",
            "Downloading https://ultralytics.com/assets/Arial.ttf to '/root/.config/Ultralytics/Arial.ttf'...\n"
          ]
        },
        {
          "output_type": "stream",
          "name": "stderr",
          "text": [
            "100%|██████████| 755k/755k [00:00<00:00, 24.2MB/s]\n"
          ]
        },
        {
          "output_type": "stream",
          "name": "stdout",
          "text": [
            "Overriding model.yaml nc=80 with nc=1\n",
            "\n",
            "                   from  n    params  module                                       arguments                     \n",
            "  0                  -1  1      1392  ultralytics.nn.modules.conv.Conv             [3, 48, 3, 2]                 \n",
            "  1                  -1  1     41664  ultralytics.nn.modules.conv.Conv             [48, 96, 3, 2]                \n",
            "  2                  -1  2    111360  ultralytics.nn.modules.block.C2f             [96, 96, 2, True]             \n",
            "  3                  -1  1    166272  ultralytics.nn.modules.conv.Conv             [96, 192, 3, 2]               \n",
            "  4                  -1  4    813312  ultralytics.nn.modules.block.C2f             [192, 192, 4, True]           \n",
            "  5                  -1  1    664320  ultralytics.nn.modules.conv.Conv             [192, 384, 3, 2]              \n",
            "  6                  -1  4   3248640  ultralytics.nn.modules.block.C2f             [384, 384, 4, True]           \n",
            "  7                  -1  1   1991808  ultralytics.nn.modules.conv.Conv             [384, 576, 3, 2]              \n",
            "  8                  -1  2   3985920  ultralytics.nn.modules.block.C2f             [576, 576, 2, True]           \n",
            "  9                  -1  1    831168  ultralytics.nn.modules.block.SPPF            [576, 576, 5]                 \n",
            " 10                  -1  1         0  torch.nn.modules.upsampling.Upsample         [None, 2, 'nearest']          \n",
            " 11             [-1, 6]  1         0  ultralytics.nn.modules.conv.Concat           [1]                           \n",
            " 12                  -1  2   1993728  ultralytics.nn.modules.block.C2f             [960, 384, 2]                 \n",
            " 13                  -1  1         0  torch.nn.modules.upsampling.Upsample         [None, 2, 'nearest']          \n",
            " 14             [-1, 4]  1         0  ultralytics.nn.modules.conv.Concat           [1]                           \n",
            " 15                  -1  2    517632  ultralytics.nn.modules.block.C2f             [576, 192, 2]                 \n",
            " 16                  -1  1    332160  ultralytics.nn.modules.conv.Conv             [192, 192, 3, 2]              \n",
            " 17            [-1, 12]  1         0  ultralytics.nn.modules.conv.Concat           [1]                           \n",
            " 18                  -1  2   1846272  ultralytics.nn.modules.block.C2f             [576, 384, 2]                 \n",
            " 19                  -1  1   1327872  ultralytics.nn.modules.conv.Conv             [384, 384, 3, 2]              \n",
            " 20             [-1, 9]  1         0  ultralytics.nn.modules.conv.Concat           [1]                           \n",
            " 21                  -1  2   4207104  ultralytics.nn.modules.block.C2f             [960, 576, 2]                 \n",
            " 22        [15, 18, 21]  1   3776275  ultralytics.nn.modules.head.Detect           [1, [192, 384, 576]]          \n",
            "Model summary: 295 layers, 25856899 parameters, 25856883 gradients, 79.1 GFLOPs\n",
            "\n",
            "Transferred 469/475 items from pretrained weights\n",
            "\u001b[34m\u001b[1mTensorBoard: \u001b[0mStart with 'tensorboard --logdir runs/detect/train11', view at http://localhost:6006/\n",
            "Freezing layer 'model.22.dfl.conv.weight'\n",
            "\u001b[34m\u001b[1mAMP: \u001b[0mrunning Automatic Mixed Precision (AMP) checks with YOLOv8n...\n",
            "Downloading https://github.com/ultralytics/assets/releases/download/v0.0.0/yolov8n.pt to 'yolov8n.pt'...\n"
          ]
        },
        {
          "output_type": "stream",
          "name": "stderr",
          "text": [
            "100%|██████████| 6.23M/6.23M [00:00<00:00, 104MB/s]\n"
          ]
        },
        {
          "output_type": "stream",
          "name": "stdout",
          "text": [
            "WARNING ⚠️ NMS time limit 0.550s exceeded\n",
            "\u001b[34m\u001b[1mAMP: \u001b[0mchecks passed ✅\n"
          ]
        },
        {
          "output_type": "stream",
          "name": "stderr",
          "text": [
            "\u001b[34m\u001b[1mtrain: \u001b[0mScanning /content/drive/MyDrive/yolov8/data/train/labels... 1116 images, 2 backgrounds, 0 corrupt: 100%|██████████| 1116/1116 [06:50<00:00,  2.72it/s]\n"
          ]
        },
        {
          "output_type": "stream",
          "name": "stdout",
          "text": [
            "\u001b[34m\u001b[1mtrain: \u001b[0mNew cache created: /content/drive/MyDrive/yolov8/data/train/labels.cache\n",
            "\u001b[34m\u001b[1malbumentations: \u001b[0mBlur(p=0.01, blur_limit=(3, 7)), MedianBlur(p=0.01, blur_limit=(3, 7)), ToGray(p=0.01), CLAHE(p=0.01, clip_limit=(1, 4.0), tile_grid_size=(8, 8))\n"
          ]
        },
        {
          "output_type": "stream",
          "name": "stderr",
          "text": [
            "\u001b[34m\u001b[1mval: \u001b[0mScanning /content/drive/MyDrive/yolov8/data/valid/labels... 279 images, 1 backgrounds, 0 corrupt: 100%|██████████| 279/279 [01:37<00:00,  2.85it/s]"
          ]
        },
        {
          "output_type": "stream",
          "name": "stdout",
          "text": [
            "\u001b[34m\u001b[1mval: \u001b[0mNew cache created: /content/drive/MyDrive/yolov8/data/valid/labels.cache\n"
          ]
        },
        {
          "output_type": "stream",
          "name": "stderr",
          "text": [
            "\n"
          ]
        },
        {
          "output_type": "stream",
          "name": "stdout",
          "text": [
            "Plotting labels to runs/detect/train11/labels.jpg... \n",
            "\u001b[34m\u001b[1moptimizer:\u001b[0m 'optimizer=auto' found, ignoring 'lr0=0.01' and 'momentum=0.937' and determining best 'optimizer', 'lr0' and 'momentum' automatically... \n",
            "\u001b[34m\u001b[1moptimizer:\u001b[0m AdamW(lr=0.002, momentum=0.9) with parameter groups 77 weight(decay=0.0), 84 weight(decay=0.0005), 83 bias(decay=0.0)\n",
            "100 epochs...\n",
            "\n",
            "      Epoch    GPU_mem   box_loss   cls_loss   dfl_loss  Instances       Size\n"
          ]
        },
        {
          "output_type": "stream",
          "name": "stderr",
          "text": [
            "      1/100      7.06G      1.424      1.429      1.728         26        640: 100%|██████████| 70/70 [00:42<00:00,  1.64it/s]\n",
            "                 Class     Images  Instances      Box(P          R      mAP50  mAP50-95): 100%|██████████| 9/9 [00:05<00:00,  1.56it/s]"
          ]
        },
        {
          "output_type": "stream",
          "name": "stdout",
          "text": [
            "                   all        279        278      0.301      0.687      0.372      0.117\n"
          ]
        },
        {
          "output_type": "stream",
          "name": "stderr",
          "text": [
            "\n"
          ]
        },
        {
          "output_type": "stream",
          "name": "stdout",
          "text": [
            "\n",
            "      Epoch    GPU_mem   box_loss   cls_loss   dfl_loss  Instances       Size\n"
          ]
        },
        {
          "output_type": "stream",
          "name": "stderr",
          "text": [
            "      2/100      7.29G      1.356     0.9687      1.691         28        640: 100%|██████████| 70/70 [00:39<00:00,  1.76it/s]\n",
            "                 Class     Images  Instances      Box(P          R      mAP50  mAP50-95): 100%|██████████| 9/9 [00:05<00:00,  1.80it/s]"
          ]
        },
        {
          "output_type": "stream",
          "name": "stdout",
          "text": [
            "                   all        279        278      0.142      0.417      0.174     0.0982\n"
          ]
        },
        {
          "output_type": "stream",
          "name": "stderr",
          "text": [
            "\n"
          ]
        },
        {
          "output_type": "stream",
          "name": "stdout",
          "text": [
            "\n",
            "      Epoch    GPU_mem   box_loss   cls_loss   dfl_loss  Instances       Size\n"
          ]
        },
        {
          "output_type": "stream",
          "name": "stderr",
          "text": [
            "      3/100       7.3G      1.366     0.9089        1.7         19        640: 100%|██████████| 70/70 [00:38<00:00,  1.84it/s]\n",
            "                 Class     Images  Instances      Box(P          R      mAP50  mAP50-95): 100%|██████████| 9/9 [00:05<00:00,  1.56it/s]"
          ]
        },
        {
          "output_type": "stream",
          "name": "stdout",
          "text": [
            "                   all        279        278      0.166      0.186     0.0987     0.0331\n"
          ]
        },
        {
          "output_type": "stream",
          "name": "stderr",
          "text": [
            "\n"
          ]
        },
        {
          "output_type": "stream",
          "name": "stdout",
          "text": [
            "\n",
            "      Epoch    GPU_mem   box_loss   cls_loss   dfl_loss  Instances       Size\n"
          ]
        },
        {
          "output_type": "stream",
          "name": "stderr",
          "text": [
            "      4/100      7.25G      1.339     0.8936       1.66         19        640: 100%|██████████| 70/70 [00:37<00:00,  1.85it/s]\n",
            "                 Class     Images  Instances      Box(P          R      mAP50  mAP50-95): 100%|██████████| 9/9 [00:05<00:00,  1.78it/s]"
          ]
        },
        {
          "output_type": "stream",
          "name": "stdout",
          "text": [
            "                   all        279        278       0.64      0.367      0.472       0.21\n"
          ]
        },
        {
          "output_type": "stream",
          "name": "stderr",
          "text": [
            "\n"
          ]
        },
        {
          "output_type": "stream",
          "name": "stdout",
          "text": [
            "\n",
            "      Epoch    GPU_mem   box_loss   cls_loss   dfl_loss  Instances       Size\n"
          ]
        },
        {
          "output_type": "stream",
          "name": "stderr",
          "text": [
            "      5/100      7.28G       1.28     0.8215      1.617         21        640: 100%|██████████| 70/70 [00:39<00:00,  1.77it/s]\n",
            "                 Class     Images  Instances      Box(P          R      mAP50  mAP50-95): 100%|██████████| 9/9 [00:04<00:00,  1.82it/s]"
          ]
        },
        {
          "output_type": "stream",
          "name": "stdout",
          "text": [
            "                   all        279        278      0.932      0.975      0.984      0.638\n"
          ]
        },
        {
          "output_type": "stream",
          "name": "stderr",
          "text": [
            "\n"
          ]
        },
        {
          "output_type": "stream",
          "name": "stdout",
          "text": [
            "\n",
            "      Epoch    GPU_mem   box_loss   cls_loss   dfl_loss  Instances       Size\n"
          ]
        },
        {
          "output_type": "stream",
          "name": "stderr",
          "text": [
            "      6/100      7.25G      1.229     0.7786      1.572         20        640: 100%|██████████| 70/70 [00:39<00:00,  1.77it/s]\n",
            "                 Class     Images  Instances      Box(P          R      mAP50  mAP50-95): 100%|██████████| 9/9 [00:04<00:00,  1.98it/s]"
          ]
        },
        {
          "output_type": "stream",
          "name": "stdout",
          "text": [
            "                   all        279        278      0.814      0.849      0.893      0.515\n"
          ]
        },
        {
          "output_type": "stream",
          "name": "stderr",
          "text": [
            "\n"
          ]
        },
        {
          "output_type": "stream",
          "name": "stdout",
          "text": [
            "\n",
            "      Epoch    GPU_mem   box_loss   cls_loss   dfl_loss  Instances       Size\n"
          ]
        },
        {
          "output_type": "stream",
          "name": "stderr",
          "text": [
            "      7/100      7.27G      1.239     0.7469      1.567         22        640: 100%|██████████| 70/70 [00:38<00:00,  1.82it/s]\n",
            "                 Class     Images  Instances      Box(P          R      mAP50  mAP50-95): 100%|██████████| 9/9 [00:05<00:00,  1.63it/s]"
          ]
        },
        {
          "output_type": "stream",
          "name": "stdout",
          "text": [
            "                   all        279        278      0.971      0.967       0.99      0.658\n"
          ]
        },
        {
          "output_type": "stream",
          "name": "stderr",
          "text": [
            "\n"
          ]
        },
        {
          "output_type": "stream",
          "name": "stdout",
          "text": [
            "\n",
            "      Epoch    GPU_mem   box_loss   cls_loss   dfl_loss  Instances       Size\n"
          ]
        },
        {
          "output_type": "stream",
          "name": "stderr",
          "text": [
            "      8/100      7.24G      1.179     0.6954       1.53         25        640: 100%|██████████| 70/70 [00:38<00:00,  1.81it/s]\n",
            "                 Class     Images  Instances      Box(P          R      mAP50  mAP50-95): 100%|██████████| 9/9 [00:05<00:00,  1.57it/s]"
          ]
        },
        {
          "output_type": "stream",
          "name": "stdout",
          "text": [
            "                   all        279        278      0.713      0.248      0.256      0.114\n"
          ]
        },
        {
          "output_type": "stream",
          "name": "stderr",
          "text": [
            "\n"
          ]
        },
        {
          "output_type": "stream",
          "name": "stdout",
          "text": [
            "\n",
            "      Epoch    GPU_mem   box_loss   cls_loss   dfl_loss  Instances       Size\n"
          ]
        },
        {
          "output_type": "stream",
          "name": "stderr",
          "text": [
            "      9/100      7.28G      1.163     0.6714      1.495         21        640: 100%|██████████| 70/70 [00:38<00:00,  1.83it/s]\n",
            "                 Class     Images  Instances      Box(P          R      mAP50  mAP50-95): 100%|██████████| 9/9 [00:05<00:00,  1.67it/s]"
          ]
        },
        {
          "output_type": "stream",
          "name": "stdout",
          "text": [
            "                   all        279        278      0.928      0.968      0.985       0.66\n"
          ]
        },
        {
          "output_type": "stream",
          "name": "stderr",
          "text": [
            "\n"
          ]
        },
        {
          "output_type": "stream",
          "name": "stdout",
          "text": [
            "\n",
            "      Epoch    GPU_mem   box_loss   cls_loss   dfl_loss  Instances       Size\n"
          ]
        },
        {
          "output_type": "stream",
          "name": "stderr",
          "text": [
            "     10/100      7.24G      1.171     0.6778      1.523         26        640: 100%|██████████| 70/70 [00:39<00:00,  1.78it/s]\n",
            "                 Class     Images  Instances      Box(P          R      mAP50  mAP50-95): 100%|██████████| 9/9 [00:05<00:00,  1.65it/s]"
          ]
        },
        {
          "output_type": "stream",
          "name": "stdout",
          "text": [
            "                   all        279        278      0.978      0.993      0.994      0.715\n"
          ]
        },
        {
          "output_type": "stream",
          "name": "stderr",
          "text": [
            "\n"
          ]
        },
        {
          "output_type": "stream",
          "name": "stdout",
          "text": [
            "\n",
            "      Epoch    GPU_mem   box_loss   cls_loss   dfl_loss  Instances       Size\n"
          ]
        },
        {
          "output_type": "stream",
          "name": "stderr",
          "text": [
            "     11/100      7.28G      1.133     0.6483      1.493         18        640: 100%|██████████| 70/70 [00:38<00:00,  1.80it/s]\n",
            "                 Class     Images  Instances      Box(P          R      mAP50  mAP50-95): 100%|██████████| 9/9 [00:04<00:00,  2.10it/s]"
          ]
        },
        {
          "output_type": "stream",
          "name": "stdout",
          "text": [
            "                   all        279        278      0.987      0.996      0.994      0.716\n"
          ]
        },
        {
          "output_type": "stream",
          "name": "stderr",
          "text": [
            "\n"
          ]
        },
        {
          "output_type": "stream",
          "name": "stdout",
          "text": [
            "\n",
            "      Epoch    GPU_mem   box_loss   cls_loss   dfl_loss  Instances       Size\n"
          ]
        },
        {
          "output_type": "stream",
          "name": "stderr",
          "text": [
            "     12/100      7.25G      1.118     0.6194      1.467         18        640: 100%|██████████| 70/70 [00:38<00:00,  1.81it/s]\n",
            "                 Class     Images  Instances      Box(P          R      mAP50  mAP50-95): 100%|██████████| 9/9 [00:04<00:00,  2.05it/s]"
          ]
        },
        {
          "output_type": "stream",
          "name": "stdout",
          "text": [
            "                   all        279        278      0.993          1      0.992      0.721\n"
          ]
        },
        {
          "output_type": "stream",
          "name": "stderr",
          "text": [
            "\n"
          ]
        },
        {
          "output_type": "stream",
          "name": "stdout",
          "text": [
            "\n",
            "      Epoch    GPU_mem   box_loss   cls_loss   dfl_loss  Instances       Size\n"
          ]
        },
        {
          "output_type": "stream",
          "name": "stderr",
          "text": [
            "     13/100      7.28G      1.098     0.6093      1.456         23        640: 100%|██████████| 70/70 [00:38<00:00,  1.80it/s]\n",
            "                 Class     Images  Instances      Box(P          R      mAP50  mAP50-95): 100%|██████████| 9/9 [00:04<00:00,  2.06it/s]"
          ]
        },
        {
          "output_type": "stream",
          "name": "stdout",
          "text": [
            "                   all        279        278       0.96      0.943      0.968      0.644\n"
          ]
        },
        {
          "output_type": "stream",
          "name": "stderr",
          "text": [
            "\n"
          ]
        },
        {
          "output_type": "stream",
          "name": "stdout",
          "text": [
            "\n",
            "      Epoch    GPU_mem   box_loss   cls_loss   dfl_loss  Instances       Size\n"
          ]
        },
        {
          "output_type": "stream",
          "name": "stderr",
          "text": [
            "     14/100      7.25G      1.096     0.5917      1.457         22        640: 100%|██████████| 70/70 [00:38<00:00,  1.81it/s]\n",
            "                 Class     Images  Instances      Box(P          R      mAP50  mAP50-95): 100%|██████████| 9/9 [00:04<00:00,  1.94it/s]"
          ]
        },
        {
          "output_type": "stream",
          "name": "stdout",
          "text": [
            "                   all        279        278      0.995      0.993      0.993      0.733\n"
          ]
        },
        {
          "output_type": "stream",
          "name": "stderr",
          "text": [
            "\n"
          ]
        },
        {
          "output_type": "stream",
          "name": "stdout",
          "text": [
            "\n",
            "      Epoch    GPU_mem   box_loss   cls_loss   dfl_loss  Instances       Size\n"
          ]
        },
        {
          "output_type": "stream",
          "name": "stderr",
          "text": [
            "     15/100      7.29G        1.1     0.6036      1.444         20        640: 100%|██████████| 70/70 [00:39<00:00,  1.79it/s]\n",
            "                 Class     Images  Instances      Box(P          R      mAP50  mAP50-95): 100%|██████████| 9/9 [00:04<00:00,  2.05it/s]"
          ]
        },
        {
          "output_type": "stream",
          "name": "stdout",
          "text": [
            "                   all        279        278      0.996      0.996      0.993      0.732\n"
          ]
        },
        {
          "output_type": "stream",
          "name": "stderr",
          "text": [
            "\n"
          ]
        },
        {
          "output_type": "stream",
          "name": "stdout",
          "text": [
            "\n",
            "      Epoch    GPU_mem   box_loss   cls_loss   dfl_loss  Instances       Size\n"
          ]
        },
        {
          "output_type": "stream",
          "name": "stderr",
          "text": [
            "     16/100      7.25G      1.105     0.5866      1.474         21        640: 100%|██████████| 70/70 [00:38<00:00,  1.84it/s]\n",
            "                 Class     Images  Instances      Box(P          R      mAP50  mAP50-95): 100%|██████████| 9/9 [00:05<00:00,  1.73it/s]"
          ]
        },
        {
          "output_type": "stream",
          "name": "stdout",
          "text": [
            "                   all        279        278      0.991      0.996      0.994      0.716\n"
          ]
        },
        {
          "output_type": "stream",
          "name": "stderr",
          "text": [
            "\n"
          ]
        },
        {
          "output_type": "stream",
          "name": "stdout",
          "text": [
            "\n",
            "      Epoch    GPU_mem   box_loss   cls_loss   dfl_loss  Instances       Size\n"
          ]
        },
        {
          "output_type": "stream",
          "name": "stderr",
          "text": [
            "     17/100      7.27G      1.053     0.5555      1.439         24        640: 100%|██████████| 70/70 [00:38<00:00,  1.83it/s]\n",
            "                 Class     Images  Instances      Box(P          R      mAP50  mAP50-95): 100%|██████████| 9/9 [00:05<00:00,  1.55it/s]"
          ]
        },
        {
          "output_type": "stream",
          "name": "stdout",
          "text": [
            "                   all        279        278      0.962      0.957      0.972      0.638\n"
          ]
        },
        {
          "output_type": "stream",
          "name": "stderr",
          "text": [
            "\n"
          ]
        },
        {
          "output_type": "stream",
          "name": "stdout",
          "text": [
            "\n",
            "      Epoch    GPU_mem   box_loss   cls_loss   dfl_loss  Instances       Size\n"
          ]
        },
        {
          "output_type": "stream",
          "name": "stderr",
          "text": [
            "     18/100      7.26G      1.048     0.5567      1.428         19        640: 100%|██████████| 70/70 [00:38<00:00,  1.83it/s]\n",
            "                 Class     Images  Instances      Box(P          R      mAP50  mAP50-95): 100%|██████████| 9/9 [00:04<00:00,  1.84it/s]"
          ]
        },
        {
          "output_type": "stream",
          "name": "stdout",
          "text": [
            "                   all        279        278       0.99      0.993      0.992      0.708\n"
          ]
        },
        {
          "output_type": "stream",
          "name": "stderr",
          "text": [
            "\n"
          ]
        },
        {
          "output_type": "stream",
          "name": "stdout",
          "text": [
            "\n",
            "      Epoch    GPU_mem   box_loss   cls_loss   dfl_loss  Instances       Size\n"
          ]
        },
        {
          "output_type": "stream",
          "name": "stderr",
          "text": [
            "     19/100      7.28G      1.056     0.5613       1.42         20        640: 100%|██████████| 70/70 [00:38<00:00,  1.83it/s]\n",
            "                 Class     Images  Instances      Box(P          R      mAP50  mAP50-95): 100%|██████████| 9/9 [00:04<00:00,  2.07it/s]"
          ]
        },
        {
          "output_type": "stream",
          "name": "stdout",
          "text": [
            "                   all        279        278      0.986      0.996      0.993      0.707\n"
          ]
        },
        {
          "output_type": "stream",
          "name": "stderr",
          "text": [
            "\n"
          ]
        },
        {
          "output_type": "stream",
          "name": "stdout",
          "text": [
            "\n",
            "      Epoch    GPU_mem   box_loss   cls_loss   dfl_loss  Instances       Size\n"
          ]
        },
        {
          "output_type": "stream",
          "name": "stderr",
          "text": [
            "     20/100      7.25G      1.017      0.526      1.395         21        640: 100%|██████████| 70/70 [00:38<00:00,  1.82it/s]\n",
            "                 Class     Images  Instances      Box(P          R      mAP50  mAP50-95): 100%|██████████| 9/9 [00:04<00:00,  1.86it/s]"
          ]
        },
        {
          "output_type": "stream",
          "name": "stdout",
          "text": [
            "                   all        279        278      0.996      0.996      0.993      0.751\n"
          ]
        },
        {
          "output_type": "stream",
          "name": "stderr",
          "text": [
            "\n"
          ]
        },
        {
          "output_type": "stream",
          "name": "stdout",
          "text": [
            "\n",
            "      Epoch    GPU_mem   box_loss   cls_loss   dfl_loss  Instances       Size\n"
          ]
        },
        {
          "output_type": "stream",
          "name": "stderr",
          "text": [
            "     21/100       7.3G      1.005     0.5034      1.372         24        640: 100%|██████████| 70/70 [00:39<00:00,  1.79it/s]\n",
            "                 Class     Images  Instances      Box(P          R      mAP50  mAP50-95): 100%|██████████| 9/9 [00:05<00:00,  1.76it/s]"
          ]
        },
        {
          "output_type": "stream",
          "name": "stdout",
          "text": [
            "                   all        279        278      0.989      0.996      0.992      0.721\n"
          ]
        },
        {
          "output_type": "stream",
          "name": "stderr",
          "text": [
            "\n"
          ]
        },
        {
          "output_type": "stream",
          "name": "stdout",
          "text": [
            "\n",
            "      Epoch    GPU_mem   box_loss   cls_loss   dfl_loss  Instances       Size\n"
          ]
        },
        {
          "output_type": "stream",
          "name": "stderr",
          "text": [
            "     22/100      7.26G      1.035     0.5373      1.403         23        640: 100%|██████████| 70/70 [00:38<00:00,  1.83it/s]\n",
            "                 Class     Images  Instances      Box(P          R      mAP50  mAP50-95): 100%|██████████| 9/9 [00:05<00:00,  1.61it/s]"
          ]
        },
        {
          "output_type": "stream",
          "name": "stdout",
          "text": [
            "                   all        279        278      0.996      0.996      0.995      0.751\n"
          ]
        },
        {
          "output_type": "stream",
          "name": "stderr",
          "text": [
            "\n"
          ]
        },
        {
          "output_type": "stream",
          "name": "stdout",
          "text": [
            "\n",
            "      Epoch    GPU_mem   box_loss   cls_loss   dfl_loss  Instances       Size\n"
          ]
        },
        {
          "output_type": "stream",
          "name": "stderr",
          "text": [
            "     23/100      7.28G      1.012     0.5323      1.382         19        640: 100%|██████████| 70/70 [00:37<00:00,  1.85it/s]\n",
            "                 Class     Images  Instances      Box(P          R      mAP50  mAP50-95): 100%|██████████| 9/9 [00:04<00:00,  1.91it/s]"
          ]
        },
        {
          "output_type": "stream",
          "name": "stdout",
          "text": [
            "                   all        279        278      0.996      0.996      0.995      0.769\n"
          ]
        },
        {
          "output_type": "stream",
          "name": "stderr",
          "text": [
            "\n"
          ]
        },
        {
          "output_type": "stream",
          "name": "stdout",
          "text": [
            "\n",
            "      Epoch    GPU_mem   box_loss   cls_loss   dfl_loss  Instances       Size\n"
          ]
        },
        {
          "output_type": "stream",
          "name": "stderr",
          "text": [
            "     24/100      7.24G      1.008     0.5053      1.384         21        640: 100%|██████████| 70/70 [00:38<00:00,  1.81it/s]\n",
            "                 Class     Images  Instances      Box(P          R      mAP50  mAP50-95): 100%|██████████| 9/9 [00:04<00:00,  1.84it/s]"
          ]
        },
        {
          "output_type": "stream",
          "name": "stdout",
          "text": [
            "                   all        279        278      0.996          1      0.994      0.766\n"
          ]
        },
        {
          "output_type": "stream",
          "name": "stderr",
          "text": [
            "\n"
          ]
        },
        {
          "output_type": "stream",
          "name": "stdout",
          "text": [
            "\n",
            "      Epoch    GPU_mem   box_loss   cls_loss   dfl_loss  Instances       Size\n"
          ]
        },
        {
          "output_type": "stream",
          "name": "stderr",
          "text": [
            "     25/100      7.29G      1.021     0.5239      1.386         23        640: 100%|██████████| 70/70 [00:38<00:00,  1.83it/s]\n",
            "                 Class     Images  Instances      Box(P          R      mAP50  mAP50-95): 100%|██████████| 9/9 [00:04<00:00,  2.07it/s]"
          ]
        },
        {
          "output_type": "stream",
          "name": "stdout",
          "text": [
            "                   all        279        278      0.993      0.978      0.992       0.73\n"
          ]
        },
        {
          "output_type": "stream",
          "name": "stderr",
          "text": [
            "\n"
          ]
        },
        {
          "output_type": "stream",
          "name": "stdout",
          "text": [
            "\n",
            "      Epoch    GPU_mem   box_loss   cls_loss   dfl_loss  Instances       Size\n"
          ]
        },
        {
          "output_type": "stream",
          "name": "stderr",
          "text": [
            "     26/100      7.28G      1.033     0.5227      1.398         18        640: 100%|██████████| 70/70 [00:38<00:00,  1.81it/s]\n",
            "                 Class     Images  Instances      Box(P          R      mAP50  mAP50-95): 100%|██████████| 9/9 [00:04<00:00,  1.86it/s]"
          ]
        },
        {
          "output_type": "stream",
          "name": "stdout",
          "text": [
            "                   all        279        278      0.995      0.996      0.993       0.73\n"
          ]
        },
        {
          "output_type": "stream",
          "name": "stderr",
          "text": [
            "\n"
          ]
        },
        {
          "output_type": "stream",
          "name": "stdout",
          "text": [
            "\n",
            "      Epoch    GPU_mem   box_loss   cls_loss   dfl_loss  Instances       Size\n"
          ]
        },
        {
          "output_type": "stream",
          "name": "stderr",
          "text": [
            "     27/100      7.28G       1.01     0.4949      1.395         28        640: 100%|██████████| 70/70 [00:38<00:00,  1.81it/s]\n",
            "                 Class     Images  Instances      Box(P          R      mAP50  mAP50-95): 100%|██████████| 9/9 [00:05<00:00,  1.57it/s]"
          ]
        },
        {
          "output_type": "stream",
          "name": "stdout",
          "text": [
            "                   all        279        278      0.993          1      0.994      0.777\n"
          ]
        },
        {
          "output_type": "stream",
          "name": "stderr",
          "text": [
            "\n"
          ]
        },
        {
          "output_type": "stream",
          "name": "stdout",
          "text": [
            "\n",
            "      Epoch    GPU_mem   box_loss   cls_loss   dfl_loss  Instances       Size\n"
          ]
        },
        {
          "output_type": "stream",
          "name": "stderr",
          "text": [
            "     28/100      7.25G      1.003     0.4951      1.369         27        640: 100%|██████████| 70/70 [00:39<00:00,  1.79it/s]\n",
            "                 Class     Images  Instances      Box(P          R      mAP50  mAP50-95): 100%|██████████| 9/9 [00:05<00:00,  1.60it/s]"
          ]
        },
        {
          "output_type": "stream",
          "name": "stdout",
          "text": [
            "                   all        279        278      0.984      0.996      0.993      0.727\n"
          ]
        },
        {
          "output_type": "stream",
          "name": "stderr",
          "text": [
            "\n"
          ]
        },
        {
          "output_type": "stream",
          "name": "stdout",
          "text": [
            "\n",
            "      Epoch    GPU_mem   box_loss   cls_loss   dfl_loss  Instances       Size\n"
          ]
        },
        {
          "output_type": "stream",
          "name": "stderr",
          "text": [
            "     29/100      7.29G     0.9789     0.4781      1.368         32        640: 100%|██████████| 70/70 [00:38<00:00,  1.82it/s]\n",
            "                 Class     Images  Instances      Box(P          R      mAP50  mAP50-95): 100%|██████████| 9/9 [00:05<00:00,  1.63it/s]"
          ]
        },
        {
          "output_type": "stream",
          "name": "stdout",
          "text": [
            "                   all        279        278      0.982      0.989      0.993      0.728\n"
          ]
        },
        {
          "output_type": "stream",
          "name": "stderr",
          "text": [
            "\n"
          ]
        },
        {
          "output_type": "stream",
          "name": "stdout",
          "text": [
            "\n",
            "      Epoch    GPU_mem   box_loss   cls_loss   dfl_loss  Instances       Size\n"
          ]
        },
        {
          "output_type": "stream",
          "name": "stderr",
          "text": [
            "     30/100      7.24G     0.9862     0.4934      1.382         25        640: 100%|██████████| 70/70 [00:38<00:00,  1.83it/s]\n",
            "                 Class     Images  Instances      Box(P          R      mAP50  mAP50-95): 100%|██████████| 9/9 [00:04<00:00,  1.93it/s]"
          ]
        },
        {
          "output_type": "stream",
          "name": "stdout",
          "text": [
            "                   all        279        278      0.996      0.996      0.992      0.772\n"
          ]
        },
        {
          "output_type": "stream",
          "name": "stderr",
          "text": [
            "\n"
          ]
        },
        {
          "output_type": "stream",
          "name": "stdout",
          "text": [
            "\n",
            "      Epoch    GPU_mem   box_loss   cls_loss   dfl_loss  Instances       Size\n"
          ]
        },
        {
          "output_type": "stream",
          "name": "stderr",
          "text": [
            "     31/100      7.28G      1.011     0.4948      1.386         21        640: 100%|██████████| 70/70 [00:38<00:00,  1.83it/s]\n",
            "                 Class     Images  Instances      Box(P          R      mAP50  mAP50-95): 100%|██████████| 9/9 [00:04<00:00,  2.06it/s]"
          ]
        },
        {
          "output_type": "stream",
          "name": "stdout",
          "text": [
            "                   all        279        278      0.996      0.996      0.994      0.785\n"
          ]
        },
        {
          "output_type": "stream",
          "name": "stderr",
          "text": [
            "\n"
          ]
        },
        {
          "output_type": "stream",
          "name": "stdout",
          "text": [
            "\n",
            "      Epoch    GPU_mem   box_loss   cls_loss   dfl_loss  Instances       Size\n"
          ]
        },
        {
          "output_type": "stream",
          "name": "stderr",
          "text": [
            "     32/100      7.25G     0.9655     0.4804      1.348         16        640: 100%|██████████| 70/70 [00:39<00:00,  1.77it/s]\n",
            "                 Class     Images  Instances      Box(P          R      mAP50  mAP50-95): 100%|██████████| 9/9 [00:04<00:00,  1.92it/s]"
          ]
        },
        {
          "output_type": "stream",
          "name": "stdout",
          "text": [
            "                   all        279        278      0.988      0.982      0.984      0.698\n"
          ]
        },
        {
          "output_type": "stream",
          "name": "stderr",
          "text": [
            "\n"
          ]
        },
        {
          "output_type": "stream",
          "name": "stdout",
          "text": [
            "\n",
            "      Epoch    GPU_mem   box_loss   cls_loss   dfl_loss  Instances       Size\n"
          ]
        },
        {
          "output_type": "stream",
          "name": "stderr",
          "text": [
            "     33/100      7.28G     0.9765     0.4833      1.348         23        640: 100%|██████████| 70/70 [00:38<00:00,  1.83it/s]\n",
            "                 Class     Images  Instances      Box(P          R      mAP50  mAP50-95): 100%|██████████| 9/9 [00:05<00:00,  1.63it/s]"
          ]
        },
        {
          "output_type": "stream",
          "name": "stdout",
          "text": [
            "                   all        279        278      0.996      0.996      0.993      0.778\n"
          ]
        },
        {
          "output_type": "stream",
          "name": "stderr",
          "text": [
            "\n"
          ]
        },
        {
          "output_type": "stream",
          "name": "stdout",
          "text": [
            "\n",
            "      Epoch    GPU_mem   box_loss   cls_loss   dfl_loss  Instances       Size\n"
          ]
        },
        {
          "output_type": "stream",
          "name": "stderr",
          "text": [
            "     34/100      7.26G      0.986     0.4832      1.367         11        640: 100%|██████████| 70/70 [00:37<00:00,  1.85it/s]\n",
            "                 Class     Images  Instances      Box(P          R      mAP50  mAP50-95): 100%|██████████| 9/9 [00:05<00:00,  1.78it/s]"
          ]
        },
        {
          "output_type": "stream",
          "name": "stdout",
          "text": [
            "                   all        279        278      0.996      0.992      0.994      0.759\n"
          ]
        },
        {
          "output_type": "stream",
          "name": "stderr",
          "text": [
            "\n"
          ]
        },
        {
          "output_type": "stream",
          "name": "stdout",
          "text": [
            "\n",
            "      Epoch    GPU_mem   box_loss   cls_loss   dfl_loss  Instances       Size\n"
          ]
        },
        {
          "output_type": "stream",
          "name": "stderr",
          "text": [
            "     35/100      7.28G     0.9968     0.4828      1.373         19        640: 100%|██████████| 70/70 [00:38<00:00,  1.83it/s]\n",
            "                 Class     Images  Instances      Box(P          R      mAP50  mAP50-95): 100%|██████████| 9/9 [00:04<00:00,  2.06it/s]"
          ]
        },
        {
          "output_type": "stream",
          "name": "stdout",
          "text": [
            "                   all        279        278      0.995      0.996      0.994      0.788\n"
          ]
        },
        {
          "output_type": "stream",
          "name": "stderr",
          "text": [
            "\n"
          ]
        },
        {
          "output_type": "stream",
          "name": "stdout",
          "text": [
            "\n",
            "      Epoch    GPU_mem   box_loss   cls_loss   dfl_loss  Instances       Size\n"
          ]
        },
        {
          "output_type": "stream",
          "name": "stderr",
          "text": [
            "     36/100      7.25G     0.9653     0.4752      1.337         30        640: 100%|██████████| 70/70 [00:38<00:00,  1.81it/s]\n",
            "                 Class     Images  Instances      Box(P          R      mAP50  mAP50-95): 100%|██████████| 9/9 [00:04<00:00,  1.92it/s]"
          ]
        },
        {
          "output_type": "stream",
          "name": "stdout",
          "text": [
            "                   all        279        278      0.996      0.996      0.993      0.772\n"
          ]
        },
        {
          "output_type": "stream",
          "name": "stderr",
          "text": [
            "\n"
          ]
        },
        {
          "output_type": "stream",
          "name": "stdout",
          "text": [
            "\n",
            "      Epoch    GPU_mem   box_loss   cls_loss   dfl_loss  Instances       Size\n"
          ]
        },
        {
          "output_type": "stream",
          "name": "stderr",
          "text": [
            "     37/100      7.28G     0.9527     0.4683      1.339         24        640: 100%|██████████| 70/70 [00:38<00:00,  1.83it/s]\n",
            "                 Class     Images  Instances      Box(P          R      mAP50  mAP50-95): 100%|██████████| 9/9 [00:04<00:00,  2.05it/s]"
          ]
        },
        {
          "output_type": "stream",
          "name": "stdout",
          "text": [
            "                   all        279        278      0.996      0.996      0.995      0.761\n"
          ]
        },
        {
          "output_type": "stream",
          "name": "stderr",
          "text": [
            "\n"
          ]
        },
        {
          "output_type": "stream",
          "name": "stdout",
          "text": [
            "\n",
            "      Epoch    GPU_mem   box_loss   cls_loss   dfl_loss  Instances       Size\n"
          ]
        },
        {
          "output_type": "stream",
          "name": "stderr",
          "text": [
            "     38/100      7.25G     0.9357     0.4715      1.327         17        640: 100%|██████████| 70/70 [00:38<00:00,  1.81it/s]\n",
            "                 Class     Images  Instances      Box(P          R      mAP50  mAP50-95): 100%|██████████| 9/9 [00:04<00:00,  1.94it/s]"
          ]
        },
        {
          "output_type": "stream",
          "name": "stdout",
          "text": [
            "                   all        279        278      0.996          1      0.992      0.766\n"
          ]
        },
        {
          "output_type": "stream",
          "name": "stderr",
          "text": [
            "\n"
          ]
        },
        {
          "output_type": "stream",
          "name": "stdout",
          "text": [
            "\n",
            "      Epoch    GPU_mem   box_loss   cls_loss   dfl_loss  Instances       Size\n"
          ]
        },
        {
          "output_type": "stream",
          "name": "stderr",
          "text": [
            "     39/100      7.28G     0.9638     0.4719      1.349         28        640: 100%|██████████| 70/70 [00:38<00:00,  1.82it/s]\n",
            "                 Class     Images  Instances      Box(P          R      mAP50  mAP50-95): 100%|██████████| 9/9 [00:05<00:00,  1.60it/s]"
          ]
        },
        {
          "output_type": "stream",
          "name": "stdout",
          "text": [
            "                   all        279        278      0.996      0.996      0.995      0.769\n"
          ]
        },
        {
          "output_type": "stream",
          "name": "stderr",
          "text": [
            "\n"
          ]
        },
        {
          "output_type": "stream",
          "name": "stdout",
          "text": [
            "\n",
            "      Epoch    GPU_mem   box_loss   cls_loss   dfl_loss  Instances       Size\n"
          ]
        },
        {
          "output_type": "stream",
          "name": "stderr",
          "text": [
            "     40/100      7.26G     0.9483     0.4713      1.343         22        640: 100%|██████████| 70/70 [00:38<00:00,  1.84it/s]\n",
            "                 Class     Images  Instances      Box(P          R      mAP50  mAP50-95): 100%|██████████| 9/9 [00:05<00:00,  1.78it/s]"
          ]
        },
        {
          "output_type": "stream",
          "name": "stdout",
          "text": [
            "                   all        279        278      0.996      0.996      0.994      0.775\n"
          ]
        },
        {
          "output_type": "stream",
          "name": "stderr",
          "text": [
            "\n"
          ]
        },
        {
          "output_type": "stream",
          "name": "stdout",
          "text": [
            "\n",
            "      Epoch    GPU_mem   box_loss   cls_loss   dfl_loss  Instances       Size\n"
          ]
        },
        {
          "output_type": "stream",
          "name": "stderr",
          "text": [
            "     41/100      7.27G     0.9226     0.4531      1.317         20        640: 100%|██████████| 70/70 [00:37<00:00,  1.84it/s]\n",
            "                 Class     Images  Instances      Box(P          R      mAP50  mAP50-95): 100%|██████████| 9/9 [00:04<00:00,  2.11it/s]"
          ]
        },
        {
          "output_type": "stream",
          "name": "stdout",
          "text": [
            "                   all        279        278      0.995      0.996      0.993      0.785\n"
          ]
        },
        {
          "output_type": "stream",
          "name": "stderr",
          "text": [
            "\n"
          ]
        },
        {
          "output_type": "stream",
          "name": "stdout",
          "text": [
            "\n",
            "      Epoch    GPU_mem   box_loss   cls_loss   dfl_loss  Instances       Size\n"
          ]
        },
        {
          "output_type": "stream",
          "name": "stderr",
          "text": [
            "     42/100      7.25G     0.9447     0.4555      1.329         19        640: 100%|██████████| 70/70 [00:38<00:00,  1.81it/s]\n",
            "                 Class     Images  Instances      Box(P          R      mAP50  mAP50-95): 100%|██████████| 9/9 [00:04<00:00,  1.90it/s]"
          ]
        },
        {
          "output_type": "stream",
          "name": "stdout",
          "text": [
            "                   all        279        278      0.996      0.996      0.994      0.772\n"
          ]
        },
        {
          "output_type": "stream",
          "name": "stderr",
          "text": [
            "\n"
          ]
        },
        {
          "output_type": "stream",
          "name": "stdout",
          "text": [
            "\n",
            "      Epoch    GPU_mem   box_loss   cls_loss   dfl_loss  Instances       Size\n"
          ]
        },
        {
          "output_type": "stream",
          "name": "stderr",
          "text": [
            "     43/100      7.29G     0.9401     0.4506      1.314         25        640: 100%|██████████| 70/70 [00:38<00:00,  1.83it/s]\n",
            "                 Class     Images  Instances      Box(P          R      mAP50  mAP50-95): 100%|██████████| 9/9 [00:05<00:00,  1.54it/s]"
          ]
        },
        {
          "output_type": "stream",
          "name": "stdout",
          "text": [
            "                   all        279        278      0.996          1      0.994      0.789\n"
          ]
        },
        {
          "output_type": "stream",
          "name": "stderr",
          "text": [
            "\n"
          ]
        },
        {
          "output_type": "stream",
          "name": "stdout",
          "text": [
            "\n",
            "      Epoch    GPU_mem   box_loss   cls_loss   dfl_loss  Instances       Size\n"
          ]
        },
        {
          "output_type": "stream",
          "name": "stderr",
          "text": [
            "     44/100      7.24G     0.9418       0.45       1.33         24        640: 100%|██████████| 70/70 [00:38<00:00,  1.81it/s]\n",
            "                 Class     Images  Instances      Box(P          R      mAP50  mAP50-95): 100%|██████████| 9/9 [00:05<00:00,  1.51it/s]"
          ]
        },
        {
          "output_type": "stream",
          "name": "stdout",
          "text": [
            "                   all        279        278      0.996      0.996      0.994      0.794\n"
          ]
        },
        {
          "output_type": "stream",
          "name": "stderr",
          "text": [
            "\n"
          ]
        },
        {
          "output_type": "stream",
          "name": "stdout",
          "text": [
            "\n",
            "      Epoch    GPU_mem   box_loss   cls_loss   dfl_loss  Instances       Size\n"
          ]
        },
        {
          "output_type": "stream",
          "name": "stderr",
          "text": [
            "     45/100      7.28G     0.9264     0.4497      1.311         23        640: 100%|██████████| 70/70 [00:42<00:00,  1.65it/s]\n",
            "                 Class     Images  Instances      Box(P          R      mAP50  mAP50-95): 100%|██████████| 9/9 [00:04<00:00,  1.81it/s]"
          ]
        },
        {
          "output_type": "stream",
          "name": "stdout",
          "text": [
            "                   all        279        278      0.996      0.996      0.993       0.79\n"
          ]
        },
        {
          "output_type": "stream",
          "name": "stderr",
          "text": [
            "\n"
          ]
        },
        {
          "output_type": "stream",
          "name": "stdout",
          "text": [
            "\n",
            "      Epoch    GPU_mem   box_loss   cls_loss   dfl_loss  Instances       Size\n"
          ]
        },
        {
          "output_type": "stream",
          "name": "stderr",
          "text": [
            "     46/100      7.24G       0.94     0.4579       1.33         26        640: 100%|██████████| 70/70 [00:37<00:00,  1.85it/s]\n",
            "                 Class     Images  Instances      Box(P          R      mAP50  mAP50-95): 100%|██████████| 9/9 [00:04<00:00,  2.07it/s]"
          ]
        },
        {
          "output_type": "stream",
          "name": "stdout",
          "text": [
            "                   all        279        278      0.996      0.996      0.994       0.79\n"
          ]
        },
        {
          "output_type": "stream",
          "name": "stderr",
          "text": [
            "\n"
          ]
        },
        {
          "output_type": "stream",
          "name": "stdout",
          "text": [
            "\n",
            "      Epoch    GPU_mem   box_loss   cls_loss   dfl_loss  Instances       Size\n"
          ]
        },
        {
          "output_type": "stream",
          "name": "stderr",
          "text": [
            "     47/100      7.28G     0.9129     0.4394      1.313         29        640: 100%|██████████| 70/70 [00:38<00:00,  1.81it/s]\n",
            "                 Class     Images  Instances      Box(P          R      mAP50  mAP50-95): 100%|██████████| 9/9 [00:04<00:00,  1.85it/s]"
          ]
        },
        {
          "output_type": "stream",
          "name": "stdout",
          "text": [
            "                   all        279        278      0.996      0.996      0.994      0.759\n"
          ]
        },
        {
          "output_type": "stream",
          "name": "stderr",
          "text": [
            "\n"
          ]
        },
        {
          "output_type": "stream",
          "name": "stdout",
          "text": [
            "\n",
            "      Epoch    GPU_mem   box_loss   cls_loss   dfl_loss  Instances       Size\n"
          ]
        },
        {
          "output_type": "stream",
          "name": "stderr",
          "text": [
            "     48/100      7.25G     0.9122     0.4303        1.3         23        640: 100%|██████████| 70/70 [00:38<00:00,  1.83it/s]\n",
            "                 Class     Images  Instances      Box(P          R      mAP50  mAP50-95): 100%|██████████| 9/9 [00:05<00:00,  1.56it/s]"
          ]
        },
        {
          "output_type": "stream",
          "name": "stdout",
          "text": [
            "                   all        279        278      0.989          1      0.993      0.792\n"
          ]
        },
        {
          "output_type": "stream",
          "name": "stderr",
          "text": [
            "\n"
          ]
        },
        {
          "output_type": "stream",
          "name": "stdout",
          "text": [
            "\n",
            "      Epoch    GPU_mem   box_loss   cls_loss   dfl_loss  Instances       Size\n"
          ]
        },
        {
          "output_type": "stream",
          "name": "stderr",
          "text": [
            "     49/100      7.29G     0.8989     0.4259      1.286         25        640: 100%|██████████| 70/70 [00:37<00:00,  1.84it/s]\n",
            "                 Class     Images  Instances      Box(P          R      mAP50  mAP50-95): 100%|██████████| 9/9 [00:05<00:00,  1.78it/s]"
          ]
        },
        {
          "output_type": "stream",
          "name": "stdout",
          "text": [
            "                   all        279        278      0.996      0.996      0.994      0.795\n"
          ]
        },
        {
          "output_type": "stream",
          "name": "stderr",
          "text": [
            "\n"
          ]
        },
        {
          "output_type": "stream",
          "name": "stdout",
          "text": [
            "\n",
            "      Epoch    GPU_mem   box_loss   cls_loss   dfl_loss  Instances       Size\n"
          ]
        },
        {
          "output_type": "stream",
          "name": "stderr",
          "text": [
            "     50/100      7.25G     0.9158     0.4378       1.29         17        640: 100%|██████████| 70/70 [00:38<00:00,  1.80it/s]\n",
            "                 Class     Images  Instances      Box(P          R      mAP50  mAP50-95): 100%|██████████| 9/9 [00:04<00:00,  1.96it/s]"
          ]
        },
        {
          "output_type": "stream",
          "name": "stdout",
          "text": [
            "                   all        279        278      0.996      0.996      0.995      0.793\n"
          ]
        },
        {
          "output_type": "stream",
          "name": "stderr",
          "text": [
            "\n"
          ]
        },
        {
          "output_type": "stream",
          "name": "stdout",
          "text": [
            "\n",
            "      Epoch    GPU_mem   box_loss   cls_loss   dfl_loss  Instances       Size\n"
          ]
        },
        {
          "output_type": "stream",
          "name": "stderr",
          "text": [
            "     51/100      7.27G     0.9257     0.4382      1.307         18        640: 100%|██████████| 70/70 [00:38<00:00,  1.83it/s]\n",
            "                 Class     Images  Instances      Box(P          R      mAP50  mAP50-95): 100%|██████████| 9/9 [00:04<00:00,  2.03it/s]"
          ]
        },
        {
          "output_type": "stream",
          "name": "stdout",
          "text": [
            "                   all        279        278      0.996      0.996      0.994      0.793\n"
          ]
        },
        {
          "output_type": "stream",
          "name": "stderr",
          "text": [
            "\n"
          ]
        },
        {
          "output_type": "stream",
          "name": "stdout",
          "text": [
            "\n",
            "      Epoch    GPU_mem   box_loss   cls_loss   dfl_loss  Instances       Size\n"
          ]
        },
        {
          "output_type": "stream",
          "name": "stderr",
          "text": [
            "     52/100      7.25G     0.9079     0.4351      1.303         22        640: 100%|██████████| 70/70 [00:38<00:00,  1.81it/s]\n",
            "                 Class     Images  Instances      Box(P          R      mAP50  mAP50-95): 100%|██████████| 9/9 [00:04<00:00,  1.83it/s]"
          ]
        },
        {
          "output_type": "stream",
          "name": "stdout",
          "text": [
            "                   all        279        278      0.996      0.996      0.994      0.812\n"
          ]
        },
        {
          "output_type": "stream",
          "name": "stderr",
          "text": [
            "\n"
          ]
        },
        {
          "output_type": "stream",
          "name": "stdout",
          "text": [
            "\n",
            "      Epoch    GPU_mem   box_loss   cls_loss   dfl_loss  Instances       Size\n"
          ]
        },
        {
          "output_type": "stream",
          "name": "stderr",
          "text": [
            "     53/100      7.28G     0.9235     0.4302      1.317         26        640: 100%|██████████| 70/70 [00:39<00:00,  1.78it/s]\n",
            "                 Class     Images  Instances      Box(P          R      mAP50  mAP50-95): 100%|██████████| 9/9 [00:04<00:00,  1.99it/s]"
          ]
        },
        {
          "output_type": "stream",
          "name": "stdout",
          "text": [
            "                   all        279        278      0.996      0.996      0.995      0.802\n"
          ]
        },
        {
          "output_type": "stream",
          "name": "stderr",
          "text": [
            "\n"
          ]
        },
        {
          "output_type": "stream",
          "name": "stdout",
          "text": [
            "\n",
            "      Epoch    GPU_mem   box_loss   cls_loss   dfl_loss  Instances       Size\n"
          ]
        },
        {
          "output_type": "stream",
          "name": "stderr",
          "text": [
            "     54/100      7.25G     0.8884     0.4183      1.279         20        640: 100%|██████████| 70/70 [00:38<00:00,  1.82it/s]\n",
            "                 Class     Images  Instances      Box(P          R      mAP50  mAP50-95): 100%|██████████| 9/9 [00:05<00:00,  1.67it/s]"
          ]
        },
        {
          "output_type": "stream",
          "name": "stdout",
          "text": [
            "                   all        279        278      0.996      0.996      0.994      0.801\n"
          ]
        },
        {
          "output_type": "stream",
          "name": "stderr",
          "text": [
            "\n"
          ]
        },
        {
          "output_type": "stream",
          "name": "stdout",
          "text": [
            "\n",
            "      Epoch    GPU_mem   box_loss   cls_loss   dfl_loss  Instances       Size\n"
          ]
        },
        {
          "output_type": "stream",
          "name": "stderr",
          "text": [
            "     55/100      7.28G     0.9123     0.4243        1.3         25        640: 100%|██████████| 70/70 [00:38<00:00,  1.83it/s]\n",
            "                 Class     Images  Instances      Box(P          R      mAP50  mAP50-95): 100%|██████████| 9/9 [00:05<00:00,  1.69it/s]"
          ]
        },
        {
          "output_type": "stream",
          "name": "stdout",
          "text": [
            "                   all        279        278      0.996      0.996      0.994      0.799\n"
          ]
        },
        {
          "output_type": "stream",
          "name": "stderr",
          "text": [
            "\n"
          ]
        },
        {
          "output_type": "stream",
          "name": "stdout",
          "text": [
            "\n",
            "      Epoch    GPU_mem   box_loss   cls_loss   dfl_loss  Instances       Size\n"
          ]
        },
        {
          "output_type": "stream",
          "name": "stderr",
          "text": [
            "     56/100      7.24G     0.8958     0.4274      1.284         19        640: 100%|██████████| 70/70 [00:38<00:00,  1.84it/s]\n",
            "                 Class     Images  Instances      Box(P          R      mAP50  mAP50-95): 100%|██████████| 9/9 [00:04<00:00,  2.09it/s]"
          ]
        },
        {
          "output_type": "stream",
          "name": "stdout",
          "text": [
            "                   all        279        278      0.996      0.996      0.994      0.793\n"
          ]
        },
        {
          "output_type": "stream",
          "name": "stderr",
          "text": [
            "\n"
          ]
        },
        {
          "output_type": "stream",
          "name": "stdout",
          "text": [
            "\n",
            "      Epoch    GPU_mem   box_loss   cls_loss   dfl_loss  Instances       Size\n"
          ]
        },
        {
          "output_type": "stream",
          "name": "stderr",
          "text": [
            "     57/100      7.28G     0.8872     0.4144      1.276         22        640: 100%|██████████| 70/70 [00:38<00:00,  1.83it/s]\n",
            "                 Class     Images  Instances      Box(P          R      mAP50  mAP50-95): 100%|██████████| 9/9 [00:04<00:00,  2.06it/s]"
          ]
        },
        {
          "output_type": "stream",
          "name": "stdout",
          "text": [
            "                   all        279        278      0.996      0.996      0.994      0.811\n"
          ]
        },
        {
          "output_type": "stream",
          "name": "stderr",
          "text": [
            "\n"
          ]
        },
        {
          "output_type": "stream",
          "name": "stdout",
          "text": [
            "\n",
            "      Epoch    GPU_mem   box_loss   cls_loss   dfl_loss  Instances       Size\n"
          ]
        },
        {
          "output_type": "stream",
          "name": "stderr",
          "text": [
            "     58/100      7.25G     0.8942     0.4193      1.278         20        640: 100%|██████████| 70/70 [00:38<00:00,  1.83it/s]\n",
            "                 Class     Images  Instances      Box(P          R      mAP50  mAP50-95): 100%|██████████| 9/9 [00:05<00:00,  1.67it/s]"
          ]
        },
        {
          "output_type": "stream",
          "name": "stdout",
          "text": [
            "                   all        279        278      0.995      0.996      0.995      0.797\n"
          ]
        },
        {
          "output_type": "stream",
          "name": "stderr",
          "text": [
            "\n"
          ]
        },
        {
          "output_type": "stream",
          "name": "stdout",
          "text": [
            "\n",
            "      Epoch    GPU_mem   box_loss   cls_loss   dfl_loss  Instances       Size\n"
          ]
        },
        {
          "output_type": "stream",
          "name": "stderr",
          "text": [
            "     59/100      7.29G     0.8803     0.4169      1.275         22        640: 100%|██████████| 70/70 [00:38<00:00,  1.83it/s]\n",
            "                 Class     Images  Instances      Box(P          R      mAP50  mAP50-95): 100%|██████████| 9/9 [00:05<00:00,  1.57it/s]"
          ]
        },
        {
          "output_type": "stream",
          "name": "stdout",
          "text": [
            "                   all        279        278      0.996      0.996      0.995       0.81\n"
          ]
        },
        {
          "output_type": "stream",
          "name": "stderr",
          "text": [
            "\n"
          ]
        },
        {
          "output_type": "stream",
          "name": "stdout",
          "text": [
            "\n",
            "      Epoch    GPU_mem   box_loss   cls_loss   dfl_loss  Instances       Size\n"
          ]
        },
        {
          "output_type": "stream",
          "name": "stderr",
          "text": [
            "     60/100      7.25G     0.8756      0.405       1.27         23        640: 100%|██████████| 70/70 [00:38<00:00,  1.83it/s]\n",
            "                 Class     Images  Instances      Box(P          R      mAP50  mAP50-95): 100%|██████████| 9/9 [00:04<00:00,  1.93it/s]"
          ]
        },
        {
          "output_type": "stream",
          "name": "stdout",
          "text": [
            "                   all        279        278      0.996      0.996      0.994      0.799\n"
          ]
        },
        {
          "output_type": "stream",
          "name": "stderr",
          "text": [
            "\n"
          ]
        },
        {
          "output_type": "stream",
          "name": "stdout",
          "text": [
            "\n",
            "      Epoch    GPU_mem   box_loss   cls_loss   dfl_loss  Instances       Size\n"
          ]
        },
        {
          "output_type": "stream",
          "name": "stderr",
          "text": [
            "     61/100      7.28G     0.8759     0.4014      1.276         24        640: 100%|██████████| 70/70 [00:38<00:00,  1.83it/s]\n",
            "                 Class     Images  Instances      Box(P          R      mAP50  mAP50-95): 100%|██████████| 9/9 [00:04<00:00,  2.10it/s]"
          ]
        },
        {
          "output_type": "stream",
          "name": "stdout",
          "text": [
            "                   all        279        278      0.996      0.996      0.993      0.804\n"
          ]
        },
        {
          "output_type": "stream",
          "name": "stderr",
          "text": [
            "\n"
          ]
        },
        {
          "output_type": "stream",
          "name": "stdout",
          "text": [
            "\n",
            "      Epoch    GPU_mem   box_loss   cls_loss   dfl_loss  Instances       Size\n"
          ]
        },
        {
          "output_type": "stream",
          "name": "stderr",
          "text": [
            "     62/100      7.25G     0.8701     0.4104      1.275         23        640: 100%|██████████| 70/70 [00:38<00:00,  1.83it/s]\n",
            "                 Class     Images  Instances      Box(P          R      mAP50  mAP50-95): 100%|██████████| 9/9 [00:05<00:00,  1.72it/s]"
          ]
        },
        {
          "output_type": "stream",
          "name": "stdout",
          "text": [
            "                   all        279        278      0.996      0.996      0.994      0.792\n"
          ]
        },
        {
          "output_type": "stream",
          "name": "stderr",
          "text": [
            "\n"
          ]
        },
        {
          "output_type": "stream",
          "name": "stdout",
          "text": [
            "\n",
            "      Epoch    GPU_mem   box_loss   cls_loss   dfl_loss  Instances       Size\n"
          ]
        },
        {
          "output_type": "stream",
          "name": "stderr",
          "text": [
            "     63/100      7.29G     0.8721     0.4071      1.263         23        640: 100%|██████████| 70/70 [00:38<00:00,  1.83it/s]\n",
            "                 Class     Images  Instances      Box(P          R      mAP50  mAP50-95): 100%|██████████| 9/9 [00:05<00:00,  1.60it/s]"
          ]
        },
        {
          "output_type": "stream",
          "name": "stdout",
          "text": [
            "                   all        279        278      0.996      0.996      0.994      0.805\n"
          ]
        },
        {
          "output_type": "stream",
          "name": "stderr",
          "text": [
            "\n"
          ]
        },
        {
          "output_type": "stream",
          "name": "stdout",
          "text": [
            "\n",
            "      Epoch    GPU_mem   box_loss   cls_loss   dfl_loss  Instances       Size\n"
          ]
        },
        {
          "output_type": "stream",
          "name": "stderr",
          "text": [
            "     64/100      7.24G     0.8773     0.4083       1.28         19        640: 100%|██████████| 70/70 [00:38<00:00,  1.83it/s]\n",
            "                 Class     Images  Instances      Box(P          R      mAP50  mAP50-95): 100%|██████████| 9/9 [00:05<00:00,  1.78it/s]"
          ]
        },
        {
          "output_type": "stream",
          "name": "stdout",
          "text": [
            "                   all        279        278      0.996      0.996      0.994      0.807\n"
          ]
        },
        {
          "output_type": "stream",
          "name": "stderr",
          "text": [
            "\n"
          ]
        },
        {
          "output_type": "stream",
          "name": "stdout",
          "text": [
            "\n",
            "      Epoch    GPU_mem   box_loss   cls_loss   dfl_loss  Instances       Size\n"
          ]
        },
        {
          "output_type": "stream",
          "name": "stderr",
          "text": [
            "     65/100      7.29G     0.8595     0.4003      1.268         26        640: 100%|██████████| 70/70 [00:38<00:00,  1.84it/s]\n",
            "                 Class     Images  Instances      Box(P          R      mAP50  mAP50-95): 100%|██████████| 9/9 [00:04<00:00,  2.04it/s]"
          ]
        },
        {
          "output_type": "stream",
          "name": "stdout",
          "text": [
            "                   all        279        278      0.996      0.996      0.995      0.796\n"
          ]
        },
        {
          "output_type": "stream",
          "name": "stderr",
          "text": [
            "\n"
          ]
        },
        {
          "output_type": "stream",
          "name": "stdout",
          "text": [
            "\n",
            "      Epoch    GPU_mem   box_loss   cls_loss   dfl_loss  Instances       Size\n"
          ]
        },
        {
          "output_type": "stream",
          "name": "stderr",
          "text": [
            "     66/100      7.25G      0.853     0.3955      1.254         27        640: 100%|██████████| 70/70 [00:38<00:00,  1.81it/s]\n",
            "                 Class     Images  Instances      Box(P          R      mAP50  mAP50-95): 100%|██████████| 9/9 [00:04<00:00,  1.96it/s]"
          ]
        },
        {
          "output_type": "stream",
          "name": "stdout",
          "text": [
            "                   all        279        278      0.996          1      0.995      0.807\n"
          ]
        },
        {
          "output_type": "stream",
          "name": "stderr",
          "text": [
            "\n"
          ]
        },
        {
          "output_type": "stream",
          "name": "stdout",
          "text": [
            "\n",
            "      Epoch    GPU_mem   box_loss   cls_loss   dfl_loss  Instances       Size\n"
          ]
        },
        {
          "output_type": "stream",
          "name": "stderr",
          "text": [
            "     67/100      7.29G     0.8476     0.3963      1.255         19        640: 100%|██████████| 70/70 [00:38<00:00,  1.81it/s]\n",
            "                 Class     Images  Instances      Box(P          R      mAP50  mAP50-95): 100%|██████████| 9/9 [00:05<00:00,  1.59it/s]"
          ]
        },
        {
          "output_type": "stream",
          "name": "stdout",
          "text": [
            "                   all        279        278      0.996      0.996      0.994      0.796\n"
          ]
        },
        {
          "output_type": "stream",
          "name": "stderr",
          "text": [
            "\n"
          ]
        },
        {
          "output_type": "stream",
          "name": "stdout",
          "text": [
            "\n",
            "      Epoch    GPU_mem   box_loss   cls_loss   dfl_loss  Instances       Size\n"
          ]
        },
        {
          "output_type": "stream",
          "name": "stderr",
          "text": [
            "     68/100      7.25G     0.8464     0.3919      1.251         20        640: 100%|██████████| 70/70 [00:38<00:00,  1.83it/s]\n",
            "                 Class     Images  Instances      Box(P          R      mAP50  mAP50-95): 100%|██████████| 9/9 [00:05<00:00,  1.78it/s]"
          ]
        },
        {
          "output_type": "stream",
          "name": "stdout",
          "text": [
            "                   all        279        278      0.996      0.996      0.994      0.806\n"
          ]
        },
        {
          "output_type": "stream",
          "name": "stderr",
          "text": [
            "\n"
          ]
        },
        {
          "output_type": "stream",
          "name": "stdout",
          "text": [
            "\n",
            "      Epoch    GPU_mem   box_loss   cls_loss   dfl_loss  Instances       Size\n"
          ]
        },
        {
          "output_type": "stream",
          "name": "stderr",
          "text": [
            "     69/100      7.28G     0.8542      0.398      1.247         18        640: 100%|██████████| 70/70 [00:37<00:00,  1.84it/s]\n",
            "                 Class     Images  Instances      Box(P          R      mAP50  mAP50-95): 100%|██████████| 9/9 [00:04<00:00,  2.11it/s]"
          ]
        },
        {
          "output_type": "stream",
          "name": "stdout",
          "text": [
            "                   all        279        278      0.996      0.996      0.992      0.797\n"
          ]
        },
        {
          "output_type": "stream",
          "name": "stderr",
          "text": [
            "\n"
          ]
        },
        {
          "output_type": "stream",
          "name": "stdout",
          "text": [
            "\n",
            "      Epoch    GPU_mem   box_loss   cls_loss   dfl_loss  Instances       Size\n"
          ]
        },
        {
          "output_type": "stream",
          "name": "stderr",
          "text": [
            "     70/100      7.24G     0.8435     0.3961      1.251         22        640: 100%|██████████| 70/70 [00:38<00:00,  1.82it/s]\n",
            "                 Class     Images  Instances      Box(P          R      mAP50  mAP50-95): 100%|██████████| 9/9 [00:04<00:00,  1.96it/s]"
          ]
        },
        {
          "output_type": "stream",
          "name": "stdout",
          "text": [
            "                   all        279        278      0.996      0.996      0.993      0.802\n"
          ]
        },
        {
          "output_type": "stream",
          "name": "stderr",
          "text": [
            "\n"
          ]
        },
        {
          "output_type": "stream",
          "name": "stdout",
          "text": [
            "\n",
            "      Epoch    GPU_mem   box_loss   cls_loss   dfl_loss  Instances       Size\n"
          ]
        },
        {
          "output_type": "stream",
          "name": "stderr",
          "text": [
            "     71/100      7.28G     0.8444     0.3873      1.253         24        640: 100%|██████████| 70/70 [00:38<00:00,  1.84it/s]\n",
            "                 Class     Images  Instances      Box(P          R      mAP50  mAP50-95): 100%|██████████| 9/9 [00:05<00:00,  1.58it/s]"
          ]
        },
        {
          "output_type": "stream",
          "name": "stdout",
          "text": [
            "                   all        279        278      0.996      0.996      0.995      0.802\n"
          ]
        },
        {
          "output_type": "stream",
          "name": "stderr",
          "text": [
            "\n"
          ]
        },
        {
          "output_type": "stream",
          "name": "stdout",
          "text": [
            "\n",
            "      Epoch    GPU_mem   box_loss   cls_loss   dfl_loss  Instances       Size\n"
          ]
        },
        {
          "output_type": "stream",
          "name": "stderr",
          "text": [
            "     72/100      7.24G     0.8389     0.3943      1.249         27        640: 100%|██████████| 70/70 [00:38<00:00,  1.82it/s]\n",
            "                 Class     Images  Instances      Box(P          R      mAP50  mAP50-95): 100%|██████████| 9/9 [00:05<00:00,  1.60it/s]"
          ]
        },
        {
          "output_type": "stream",
          "name": "stdout",
          "text": [
            "                   all        279        278      0.996      0.993      0.994      0.773\n"
          ]
        },
        {
          "output_type": "stream",
          "name": "stderr",
          "text": [
            "\n"
          ]
        },
        {
          "output_type": "stream",
          "name": "stdout",
          "text": [
            "\n",
            "      Epoch    GPU_mem   box_loss   cls_loss   dfl_loss  Instances       Size\n"
          ]
        },
        {
          "output_type": "stream",
          "name": "stderr",
          "text": [
            "     73/100      7.27G     0.8353     0.3919      1.249         26        640: 100%|██████████| 70/70 [00:37<00:00,  1.84it/s]\n",
            "                 Class     Images  Instances      Box(P          R      mAP50  mAP50-95): 100%|██████████| 9/9 [00:04<00:00,  2.07it/s]"
          ]
        },
        {
          "output_type": "stream",
          "name": "stdout",
          "text": [
            "                   all        279        278      0.996      0.996      0.994      0.794\n"
          ]
        },
        {
          "output_type": "stream",
          "name": "stderr",
          "text": [
            "\n"
          ]
        },
        {
          "output_type": "stream",
          "name": "stdout",
          "text": [
            "\n",
            "      Epoch    GPU_mem   box_loss   cls_loss   dfl_loss  Instances       Size\n"
          ]
        },
        {
          "output_type": "stream",
          "name": "stderr",
          "text": [
            "     74/100      7.25G     0.8062     0.3733      1.218         15        640: 100%|██████████| 70/70 [00:38<00:00,  1.84it/s]\n",
            "                 Class     Images  Instances      Box(P          R      mAP50  mAP50-95): 100%|██████████| 9/9 [00:04<00:00,  2.01it/s]"
          ]
        },
        {
          "output_type": "stream",
          "name": "stdout",
          "text": [
            "                   all        279        278      0.996      0.996      0.993      0.809\n"
          ]
        },
        {
          "output_type": "stream",
          "name": "stderr",
          "text": [
            "\n"
          ]
        },
        {
          "output_type": "stream",
          "name": "stdout",
          "text": [
            "\n",
            "      Epoch    GPU_mem   box_loss   cls_loss   dfl_loss  Instances       Size\n"
          ]
        },
        {
          "output_type": "stream",
          "name": "stderr",
          "text": [
            "     75/100      7.28G     0.8268     0.3899      1.247         22        640: 100%|██████████| 70/70 [00:38<00:00,  1.82it/s]\n",
            "                 Class     Images  Instances      Box(P          R      mAP50  mAP50-95): 100%|██████████| 9/9 [00:05<00:00,  1.70it/s]"
          ]
        },
        {
          "output_type": "stream",
          "name": "stdout",
          "text": [
            "                   all        279        278      0.996      0.996      0.995      0.805\n"
          ]
        },
        {
          "output_type": "stream",
          "name": "stderr",
          "text": [
            "\n"
          ]
        },
        {
          "output_type": "stream",
          "name": "stdout",
          "text": [
            "\n",
            "      Epoch    GPU_mem   box_loss   cls_loss   dfl_loss  Instances       Size\n"
          ]
        },
        {
          "output_type": "stream",
          "name": "stderr",
          "text": [
            "     76/100      7.24G     0.8289     0.3849      1.252         22        640: 100%|██████████| 70/70 [00:37<00:00,  1.84it/s]\n",
            "                 Class     Images  Instances      Box(P          R      mAP50  mAP50-95): 100%|██████████| 9/9 [00:05<00:00,  1.71it/s]"
          ]
        },
        {
          "output_type": "stream",
          "name": "stdout",
          "text": [
            "                   all        279        278      0.996          1      0.995      0.818\n"
          ]
        },
        {
          "output_type": "stream",
          "name": "stderr",
          "text": [
            "\n"
          ]
        },
        {
          "output_type": "stream",
          "name": "stdout",
          "text": [
            "\n",
            "      Epoch    GPU_mem   box_loss   cls_loss   dfl_loss  Instances       Size\n"
          ]
        },
        {
          "output_type": "stream",
          "name": "stderr",
          "text": [
            "     77/100      7.29G     0.8335     0.3786       1.25         20        640: 100%|██████████| 70/70 [00:38<00:00,  1.81it/s]\n",
            "                 Class     Images  Instances      Box(P          R      mAP50  mAP50-95): 100%|██████████| 9/9 [00:05<00:00,  1.60it/s]"
          ]
        },
        {
          "output_type": "stream",
          "name": "stdout",
          "text": [
            "                   all        279        278      0.996          1      0.994      0.824\n"
          ]
        },
        {
          "output_type": "stream",
          "name": "stderr",
          "text": [
            "\n"
          ]
        },
        {
          "output_type": "stream",
          "name": "stdout",
          "text": [
            "\n",
            "      Epoch    GPU_mem   box_loss   cls_loss   dfl_loss  Instances       Size\n"
          ]
        },
        {
          "output_type": "stream",
          "name": "stderr",
          "text": [
            "     78/100      7.25G     0.8291     0.3805       1.25         17        640: 100%|██████████| 70/70 [00:38<00:00,  1.80it/s]\n",
            "                 Class     Images  Instances      Box(P          R      mAP50  mAP50-95): 100%|██████████| 9/9 [00:05<00:00,  1.60it/s]"
          ]
        },
        {
          "output_type": "stream",
          "name": "stdout",
          "text": [
            "                   all        279        278      0.996      0.996      0.994      0.816\n"
          ]
        },
        {
          "output_type": "stream",
          "name": "stderr",
          "text": [
            "\n"
          ]
        },
        {
          "output_type": "stream",
          "name": "stdout",
          "text": [
            "\n",
            "      Epoch    GPU_mem   box_loss   cls_loss   dfl_loss  Instances       Size\n"
          ]
        },
        {
          "output_type": "stream",
          "name": "stderr",
          "text": [
            "     79/100      7.28G     0.8206     0.3774      1.246         21        640: 100%|██████████| 70/70 [00:38<00:00,  1.83it/s]\n",
            "                 Class     Images  Instances      Box(P          R      mAP50  mAP50-95): 100%|██████████| 9/9 [00:05<00:00,  1.64it/s]"
          ]
        },
        {
          "output_type": "stream",
          "name": "stdout",
          "text": [
            "                   all        279        278      0.993      0.996      0.994      0.802\n"
          ]
        },
        {
          "output_type": "stream",
          "name": "stderr",
          "text": [
            "\n"
          ]
        },
        {
          "output_type": "stream",
          "name": "stdout",
          "text": [
            "\n",
            "      Epoch    GPU_mem   box_loss   cls_loss   dfl_loss  Instances       Size\n"
          ]
        },
        {
          "output_type": "stream",
          "name": "stderr",
          "text": [
            "     80/100      7.25G     0.8155     0.3854      1.242         24        640: 100%|██████████| 70/70 [00:37<00:00,  1.85it/s]\n",
            "                 Class     Images  Instances      Box(P          R      mAP50  mAP50-95): 100%|██████████| 9/9 [00:04<00:00,  2.08it/s]"
          ]
        },
        {
          "output_type": "stream",
          "name": "stdout",
          "text": [
            "                   all        279        278      0.996          1      0.994      0.828\n"
          ]
        },
        {
          "output_type": "stream",
          "name": "stderr",
          "text": [
            "\n"
          ]
        },
        {
          "output_type": "stream",
          "name": "stdout",
          "text": [
            "\n",
            "      Epoch    GPU_mem   box_loss   cls_loss   dfl_loss  Instances       Size\n"
          ]
        },
        {
          "output_type": "stream",
          "name": "stderr",
          "text": [
            "     81/100      7.29G     0.8085     0.3723      1.224         21        640: 100%|██████████| 70/70 [00:39<00:00,  1.77it/s]\n",
            "                 Class     Images  Instances      Box(P          R      mAP50  mAP50-95): 100%|██████████| 9/9 [00:05<00:00,  1.77it/s]"
          ]
        },
        {
          "output_type": "stream",
          "name": "stdout",
          "text": [
            "                   all        279        278      0.994      0.996      0.994       0.82\n"
          ]
        },
        {
          "output_type": "stream",
          "name": "stderr",
          "text": [
            "\n"
          ]
        },
        {
          "output_type": "stream",
          "name": "stdout",
          "text": [
            "\n",
            "      Epoch    GPU_mem   box_loss   cls_loss   dfl_loss  Instances       Size\n"
          ]
        },
        {
          "output_type": "stream",
          "name": "stderr",
          "text": [
            "     82/100      7.25G     0.8073      0.374      1.226         21        640: 100%|██████████| 70/70 [00:37<00:00,  1.85it/s]\n",
            "                 Class     Images  Instances      Box(P          R      mAP50  mAP50-95): 100%|██████████| 9/9 [00:05<00:00,  1.67it/s]"
          ]
        },
        {
          "output_type": "stream",
          "name": "stdout",
          "text": [
            "                   all        279        278      0.996      0.996      0.994      0.823\n"
          ]
        },
        {
          "output_type": "stream",
          "name": "stderr",
          "text": [
            "\n"
          ]
        },
        {
          "output_type": "stream",
          "name": "stdout",
          "text": [
            "\n",
            "      Epoch    GPU_mem   box_loss   cls_loss   dfl_loss  Instances       Size\n"
          ]
        },
        {
          "output_type": "stream",
          "name": "stderr",
          "text": [
            "     83/100      7.28G     0.8015     0.3687      1.217         23        640: 100%|██████████| 70/70 [00:38<00:00,  1.83it/s]\n",
            "                 Class     Images  Instances      Box(P          R      mAP50  mAP50-95): 100%|██████████| 9/9 [00:04<00:00,  1.96it/s]"
          ]
        },
        {
          "output_type": "stream",
          "name": "stdout",
          "text": [
            "                   all        279        278      0.996          1      0.994      0.825\n"
          ]
        },
        {
          "output_type": "stream",
          "name": "stderr",
          "text": [
            "\n"
          ]
        },
        {
          "output_type": "stream",
          "name": "stdout",
          "text": [
            "\n",
            "      Epoch    GPU_mem   box_loss   cls_loss   dfl_loss  Instances       Size\n"
          ]
        },
        {
          "output_type": "stream",
          "name": "stderr",
          "text": [
            "     84/100      7.25G      0.792     0.3527      1.216         27        640: 100%|██████████| 70/70 [00:38<00:00,  1.84it/s]\n",
            "                 Class     Images  Instances      Box(P          R      mAP50  mAP50-95): 100%|██████████| 9/9 [00:04<00:00,  2.09it/s]"
          ]
        },
        {
          "output_type": "stream",
          "name": "stdout",
          "text": [
            "                   all        279        278      0.996      0.996      0.994      0.825\n"
          ]
        },
        {
          "output_type": "stream",
          "name": "stderr",
          "text": [
            "\n"
          ]
        },
        {
          "output_type": "stream",
          "name": "stdout",
          "text": [
            "\n",
            "      Epoch    GPU_mem   box_loss   cls_loss   dfl_loss  Instances       Size\n"
          ]
        },
        {
          "output_type": "stream",
          "name": "stderr",
          "text": [
            "     85/100      7.27G     0.7815     0.3549      1.213         19        640: 100%|██████████| 70/70 [00:38<00:00,  1.81it/s]\n",
            "                 Class     Images  Instances      Box(P          R      mAP50  mAP50-95): 100%|██████████| 9/9 [00:05<00:00,  1.74it/s]"
          ]
        },
        {
          "output_type": "stream",
          "name": "stdout",
          "text": [
            "                   all        279        278      0.996      0.996      0.993      0.819\n"
          ]
        },
        {
          "output_type": "stream",
          "name": "stderr",
          "text": [
            "\n"
          ]
        },
        {
          "output_type": "stream",
          "name": "stdout",
          "text": [
            "\n",
            "      Epoch    GPU_mem   box_loss   cls_loss   dfl_loss  Instances       Size\n"
          ]
        },
        {
          "output_type": "stream",
          "name": "stderr",
          "text": [
            "     86/100      7.25G     0.7834     0.3476      1.198         26        640: 100%|██████████| 70/70 [00:38<00:00,  1.83it/s]\n",
            "                 Class     Images  Instances      Box(P          R      mAP50  mAP50-95): 100%|██████████| 9/9 [00:05<00:00,  1.52it/s]"
          ]
        },
        {
          "output_type": "stream",
          "name": "stdout",
          "text": [
            "                   all        279        278      0.996      0.996      0.992      0.826\n"
          ]
        },
        {
          "output_type": "stream",
          "name": "stderr",
          "text": [
            "\n"
          ]
        },
        {
          "output_type": "stream",
          "name": "stdout",
          "text": [
            "\n",
            "      Epoch    GPU_mem   box_loss   cls_loss   dfl_loss  Instances       Size\n"
          ]
        },
        {
          "output_type": "stream",
          "name": "stderr",
          "text": [
            "     87/100      7.28G     0.7981     0.3692      1.235         24        640: 100%|██████████| 70/70 [00:38<00:00,  1.83it/s]\n",
            "                 Class     Images  Instances      Box(P          R      mAP50  mAP50-95): 100%|██████████| 9/9 [00:04<00:00,  1.82it/s]"
          ]
        },
        {
          "output_type": "stream",
          "name": "stdout",
          "text": [
            "                   all        279        278      0.996          1      0.993      0.826\n"
          ]
        },
        {
          "output_type": "stream",
          "name": "stderr",
          "text": [
            "\n"
          ]
        },
        {
          "output_type": "stream",
          "name": "stdout",
          "text": [
            "\n",
            "      Epoch    GPU_mem   box_loss   cls_loss   dfl_loss  Instances       Size\n"
          ]
        },
        {
          "output_type": "stream",
          "name": "stderr",
          "text": [
            "     88/100      7.25G     0.7796     0.3536      1.208         26        640: 100%|██████████| 70/70 [00:37<00:00,  1.85it/s]\n",
            "                 Class     Images  Instances      Box(P          R      mAP50  mAP50-95): 100%|██████████| 9/9 [00:04<00:00,  2.08it/s]"
          ]
        },
        {
          "output_type": "stream",
          "name": "stdout",
          "text": [
            "                   all        279        278      0.996          1      0.994      0.831\n"
          ]
        },
        {
          "output_type": "stream",
          "name": "stderr",
          "text": [
            "\n"
          ]
        },
        {
          "output_type": "stream",
          "name": "stdout",
          "text": [
            "\n",
            "      Epoch    GPU_mem   box_loss   cls_loss   dfl_loss  Instances       Size\n"
          ]
        },
        {
          "output_type": "stream",
          "name": "stderr",
          "text": [
            "     89/100      7.29G     0.7793     0.3544      1.204         25        640: 100%|██████████| 70/70 [00:39<00:00,  1.78it/s]\n",
            "                 Class     Images  Instances      Box(P          R      mAP50  mAP50-95): 100%|██████████| 9/9 [00:04<00:00,  2.02it/s]"
          ]
        },
        {
          "output_type": "stream",
          "name": "stdout",
          "text": [
            "                   all        279        278      0.996      0.996      0.994      0.827\n"
          ]
        },
        {
          "output_type": "stream",
          "name": "stderr",
          "text": [
            "\n"
          ]
        },
        {
          "output_type": "stream",
          "name": "stdout",
          "text": [
            "\n",
            "      Epoch    GPU_mem   box_loss   cls_loss   dfl_loss  Instances       Size\n"
          ]
        },
        {
          "output_type": "stream",
          "name": "stderr",
          "text": [
            "     90/100      7.25G      0.768     0.3471      1.183         23        640: 100%|██████████| 70/70 [00:38<00:00,  1.84it/s]\n",
            "                 Class     Images  Instances      Box(P          R      mAP50  mAP50-95): 100%|██████████| 9/9 [00:05<00:00,  1.65it/s]"
          ]
        },
        {
          "output_type": "stream",
          "name": "stdout",
          "text": [
            "                   all        279        278      0.996          1      0.995      0.827\n"
          ]
        },
        {
          "output_type": "stream",
          "name": "stderr",
          "text": [
            "\n"
          ]
        },
        {
          "output_type": "stream",
          "name": "stdout",
          "text": [
            "Closing dataloader mosaic\n",
            "\u001b[34m\u001b[1malbumentations: \u001b[0mBlur(p=0.01, blur_limit=(3, 7)), MedianBlur(p=0.01, blur_limit=(3, 7)), ToGray(p=0.01), CLAHE(p=0.01, clip_limit=(1, 4.0), tile_grid_size=(8, 8))\n",
            "\n",
            "      Epoch    GPU_mem   box_loss   cls_loss   dfl_loss  Instances       Size\n"
          ]
        },
        {
          "output_type": "stream",
          "name": "stderr",
          "text": [
            "     91/100      7.29G     0.6754     0.2731      1.137         12        640: 100%|██████████| 70/70 [00:39<00:00,  1.79it/s]\n",
            "                 Class     Images  Instances      Box(P          R      mAP50  mAP50-95): 100%|██████████| 9/9 [00:05<00:00,  1.57it/s]"
          ]
        },
        {
          "output_type": "stream",
          "name": "stdout",
          "text": [
            "                   all        279        278      0.996      0.996      0.994      0.829\n"
          ]
        },
        {
          "output_type": "stream",
          "name": "stderr",
          "text": [
            "\n"
          ]
        },
        {
          "output_type": "stream",
          "name": "stdout",
          "text": [
            "\n",
            "      Epoch    GPU_mem   box_loss   cls_loss   dfl_loss  Instances       Size\n"
          ]
        },
        {
          "output_type": "stream",
          "name": "stderr",
          "text": [
            "     92/100      7.24G     0.6604     0.2725      1.131         12        640: 100%|██████████| 70/70 [00:37<00:00,  1.86it/s]\n",
            "                 Class     Images  Instances      Box(P          R      mAP50  mAP50-95): 100%|██████████| 9/9 [00:04<00:00,  1.86it/s]"
          ]
        },
        {
          "output_type": "stream",
          "name": "stdout",
          "text": [
            "                   all        279        278      0.996      0.996      0.994      0.827\n"
          ]
        },
        {
          "output_type": "stream",
          "name": "stderr",
          "text": [
            "\n"
          ]
        },
        {
          "output_type": "stream",
          "name": "stdout",
          "text": [
            "\n",
            "      Epoch    GPU_mem   box_loss   cls_loss   dfl_loss  Instances       Size\n"
          ]
        },
        {
          "output_type": "stream",
          "name": "stderr",
          "text": [
            "     93/100      7.28G     0.6538     0.2708       1.12         12        640: 100%|██████████| 70/70 [00:37<00:00,  1.85it/s]\n",
            "                 Class     Images  Instances      Box(P          R      mAP50  mAP50-95): 100%|██████████| 9/9 [00:04<00:00,  2.06it/s]"
          ]
        },
        {
          "output_type": "stream",
          "name": "stdout",
          "text": [
            "                   all        279        278      0.996      0.996      0.994       0.83\n"
          ]
        },
        {
          "output_type": "stream",
          "name": "stderr",
          "text": [
            "\n"
          ]
        },
        {
          "output_type": "stream",
          "name": "stdout",
          "text": [
            "\n",
            "      Epoch    GPU_mem   box_loss   cls_loss   dfl_loss  Instances       Size\n"
          ]
        },
        {
          "output_type": "stream",
          "name": "stderr",
          "text": [
            "     94/100      7.24G     0.6613     0.2677      1.129         12        640: 100%|██████████| 70/70 [00:37<00:00,  1.85it/s]\n",
            "                 Class     Images  Instances      Box(P          R      mAP50  mAP50-95): 100%|██████████| 9/9 [00:05<00:00,  1.72it/s]"
          ]
        },
        {
          "output_type": "stream",
          "name": "stdout",
          "text": [
            "                   all        279        278      0.996          1      0.994       0.83\n"
          ]
        },
        {
          "output_type": "stream",
          "name": "stderr",
          "text": [
            "\n"
          ]
        },
        {
          "output_type": "stream",
          "name": "stdout",
          "text": [
            "\n",
            "      Epoch    GPU_mem   box_loss   cls_loss   dfl_loss  Instances       Size\n"
          ]
        },
        {
          "output_type": "stream",
          "name": "stderr",
          "text": [
            "     95/100      7.29G     0.6484     0.2668      1.101         12        640: 100%|██████████| 70/70 [00:37<00:00,  1.84it/s]\n",
            "                 Class     Images  Instances      Box(P          R      mAP50  mAP50-95): 100%|██████████| 9/9 [00:05<00:00,  1.64it/s]"
          ]
        },
        {
          "output_type": "stream",
          "name": "stdout",
          "text": [
            "                   all        279        278      0.996          1      0.994      0.834\n"
          ]
        },
        {
          "output_type": "stream",
          "name": "stderr",
          "text": [
            "\n"
          ]
        },
        {
          "output_type": "stream",
          "name": "stdout",
          "text": [
            "\n",
            "      Epoch    GPU_mem   box_loss   cls_loss   dfl_loss  Instances       Size\n"
          ]
        },
        {
          "output_type": "stream",
          "name": "stderr",
          "text": [
            "     96/100      7.25G     0.6485     0.2652      1.103         12        640: 100%|██████████| 70/70 [00:38<00:00,  1.83it/s]\n",
            "                 Class     Images  Instances      Box(P          R      mAP50  mAP50-95): 100%|██████████| 9/9 [00:05<00:00,  1.55it/s]"
          ]
        },
        {
          "output_type": "stream",
          "name": "stdout",
          "text": [
            "                   all        279        278      0.996          1      0.994      0.832\n"
          ]
        },
        {
          "output_type": "stream",
          "name": "stderr",
          "text": [
            "\n"
          ]
        },
        {
          "output_type": "stream",
          "name": "stdout",
          "text": [
            "\n",
            "      Epoch    GPU_mem   box_loss   cls_loss   dfl_loss  Instances       Size\n"
          ]
        },
        {
          "output_type": "stream",
          "name": "stderr",
          "text": [
            "     97/100      7.28G      0.631     0.2614      1.098         12        640: 100%|██████████| 70/70 [00:37<00:00,  1.85it/s]\n",
            "                 Class     Images  Instances      Box(P          R      mAP50  mAP50-95): 100%|██████████| 9/9 [00:04<00:00,  2.00it/s]"
          ]
        },
        {
          "output_type": "stream",
          "name": "stdout",
          "text": [
            "                   all        279        278      0.993          1      0.993      0.832\n"
          ]
        },
        {
          "output_type": "stream",
          "name": "stderr",
          "text": [
            "\n"
          ]
        },
        {
          "output_type": "stream",
          "name": "stdout",
          "text": [
            "\n",
            "      Epoch    GPU_mem   box_loss   cls_loss   dfl_loss  Instances       Size\n"
          ]
        },
        {
          "output_type": "stream",
          "name": "stderr",
          "text": [
            "     98/100      7.25G     0.6319     0.2602      1.101         12        640: 100%|██████████| 70/70 [00:38<00:00,  1.83it/s]\n",
            "                 Class     Images  Instances      Box(P          R      mAP50  mAP50-95): 100%|██████████| 9/9 [00:04<00:00,  1.81it/s]"
          ]
        },
        {
          "output_type": "stream",
          "name": "stdout",
          "text": [
            "                   all        279        278      0.993          1      0.993      0.838\n"
          ]
        },
        {
          "output_type": "stream",
          "name": "stderr",
          "text": [
            "\n"
          ]
        },
        {
          "output_type": "stream",
          "name": "stdout",
          "text": [
            "\n",
            "      Epoch    GPU_mem   box_loss   cls_loss   dfl_loss  Instances       Size\n"
          ]
        },
        {
          "output_type": "stream",
          "name": "stderr",
          "text": [
            "     99/100      7.28G     0.6365     0.2601      1.095         12        640: 100%|██████████| 70/70 [00:38<00:00,  1.83it/s]\n",
            "                 Class     Images  Instances      Box(P          R      mAP50  mAP50-95): 100%|██████████| 9/9 [00:04<00:00,  2.03it/s]"
          ]
        },
        {
          "output_type": "stream",
          "name": "stdout",
          "text": [
            "                   all        279        278      0.993          1      0.993      0.837\n"
          ]
        },
        {
          "output_type": "stream",
          "name": "stderr",
          "text": [
            "\n"
          ]
        },
        {
          "output_type": "stream",
          "name": "stdout",
          "text": [
            "\n",
            "      Epoch    GPU_mem   box_loss   cls_loss   dfl_loss  Instances       Size\n"
          ]
        },
        {
          "output_type": "stream",
          "name": "stderr",
          "text": [
            "    100/100      7.24G     0.6228     0.2574      1.093         12        640: 100%|██████████| 70/70 [00:37<00:00,  1.85it/s]\n",
            "                 Class     Images  Instances      Box(P          R      mAP50  mAP50-95): 100%|██████████| 9/9 [00:04<00:00,  2.07it/s]"
          ]
        },
        {
          "output_type": "stream",
          "name": "stdout",
          "text": [
            "                   all        279        278      0.993          1      0.993      0.833\n"
          ]
        },
        {
          "output_type": "stream",
          "name": "stderr",
          "text": [
            "\n"
          ]
        },
        {
          "output_type": "stream",
          "name": "stdout",
          "text": [
            "\n",
            "100 epochs completed in 1.288 hours.\n",
            "Optimizer stripped from runs/detect/train11/weights/last.pt, 52.0MB\n",
            "Optimizer stripped from runs/detect/train11/weights/best.pt, 52.0MB\n",
            "\n",
            "Validating runs/detect/train11/weights/best.pt...\n",
            "Ultralytics YOLOv8.0.229 🚀 Python-3.10.12 torch-2.1.0+cu121 CUDA:0 (Tesla T4, 15102MiB)\n",
            "Model summary (fused): 218 layers, 25840339 parameters, 0 gradients, 78.7 GFLOPs\n"
          ]
        },
        {
          "output_type": "stream",
          "name": "stderr",
          "text": [
            "                 Class     Images  Instances      Box(P          R      mAP50  mAP50-95): 100%|██████████| 9/9 [00:09<00:00,  1.01s/it]\n"
          ]
        },
        {
          "output_type": "stream",
          "name": "stdout",
          "text": [
            "                   all        279        278      0.993          1      0.993      0.838\n",
            "Speed: 0.3ms preprocess, 11.4ms inference, 0.0ms loss, 4.8ms postprocess per image\n",
            "Results saved to \u001b[1mruns/detect/train11\u001b[0m\n"
          ]
        }
      ]
    }
  ]
}